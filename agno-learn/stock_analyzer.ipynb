{
 "cells": [
  {
   "cell_type": "code",
   "execution_count": 1,
   "id": "c0ce0d7d",
   "metadata": {},
   "outputs": [
    {
     "data": {
      "application/vnd.jupyter.widget-view+json": {
       "model_id": "1cb52651d6444682b45bf029945b1f8b",
       "version_major": 2,
       "version_minor": 0
      },
      "text/plain": [
       "Output()"
      ]
     },
     "metadata": {},
     "output_type": "display_data"
    },
    {
     "data": {
      "text/html": [
       "<pre style=\"white-space:pre;overflow-x:auto;line-height:normal;font-family:Menlo,'DejaVu Sans Mono',consolas,'Courier New',monospace\"></pre>\n"
      ],
      "text/plain": []
     },
     "metadata": {},
     "output_type": "display_data"
    }
   ],
   "source": [
    "from dotenv import load_dotenv\n",
    "load_dotenv()\n",
    "\n",
    "from agno.agent import Agent\n",
    "from agno.models.azure  import AzureOpenAI\n",
    "from agno.tools.reasoning import ReasoningTools\n",
    "from agno.tools.yfinance import YFinanceTools\n",
    "\n",
    "\n",
    "agent = Agent(\n",
    "    model=AzureOpenAI(id=\"gpt-4.1-mini\"),\n",
    "    tools=[\n",
    "        ReasoningTools(add_instructions=True),\n",
    "        YFinanceTools(stock_price=True, analyst_recommendations=True, company_info=True, company_news=True),\n",
    "    ],\n",
    "    instructions=[\n",
    "        \"Use tables to display data\",\n",
    "        \"Only output the report, no other text\",\n",
    "    ],\n",
    "    markdown=True,\n",
    "    monitoring=True,\n",
    ")\n",
    "agent.print_response(\"Write a report on MSFT\", stream=True, show_full_reasoning=True, stream_intermediate_steps=True)"
   ]
  },
  {
   "cell_type": "code",
   "execution_count": null,
   "id": "406fdf45",
   "metadata": {},
   "outputs": [
    {
     "data": {
      "text/html": [
       "<pre style=\"white-space:pre;overflow-x:auto;line-height:normal;font-family:Menlo,'DejaVu Sans Mono',consolas,'Courier New',monospace\"><span style=\"color: #000080; text-decoration-color: #000080\">INFO</span> Starting playground on <span style=\"color: #0000ff; text-decoration-color: #0000ff; text-decoration: underline\">http://localhost:7777</span>                                                                  \n",
       "</pre>\n"
      ],
      "text/plain": [
       "\u001b[34mINFO\u001b[0m Starting playground on \u001b[4;94mhttp://localhost:7777\u001b[0m                                                                  \n"
      ]
     },
     "metadata": {},
     "output_type": "display_data"
    },
    {
     "data": {
      "text/html": [
       "<pre style=\"white-space:pre;overflow-x:auto;line-height:normal;font-family:Menlo,'DejaVu Sans Mono',consolas,'Courier New',monospace\"><span style=\"color: #008080; text-decoration-color: #008080\">┏━━━━━━━━━━━━━━━━━━━━━━━━━━━━━ Agent Playground ━━━━━━━━━━━━━━━━━━━━━━━━━━━━━━┓</span>\n",
       "<span style=\"color: #008080; text-decoration-color: #008080\">┃</span>                                                                             <span style=\"color: #008080; text-decoration-color: #008080\">┃</span>\n",
       "<span style=\"color: #008080; text-decoration-color: #008080\">┃</span>                                                                             <span style=\"color: #008080; text-decoration-color: #008080\">┃</span>\n",
       "<span style=\"color: #008080; text-decoration-color: #008080\">┃</span>  <span style=\"color: #008000; text-decoration-color: #008000; font-weight: bold\">Playground URL:</span> <a href=\"https://app.agno.com/playground?endpoint=localhost%3A7777\" target=\"_blank\">https://app.agno.com/playground?endpoint=localhost%3A7777</a>  <span style=\"color: #008080; text-decoration-color: #008080\">┃</span>\n",
       "<span style=\"color: #008080; text-decoration-color: #008080\">┃</span>                                                                             <span style=\"color: #008080; text-decoration-color: #008080\">┃</span>\n",
       "<span style=\"color: #008080; text-decoration-color: #008080\">┃</span>                                                                             <span style=\"color: #008080; text-decoration-color: #008080\">┃</span>\n",
       "<span style=\"color: #008080; text-decoration-color: #008080\">┗━━━━━━━━━━━━━━━━━━━━━━━━━━━━━━━━━━━━━━━━━━━━━━━━━━━━━━━━━━━━━━━━━━━━━━━━━━━━━┛</span>\n",
       "</pre>\n"
      ],
      "text/plain": [
       "\u001b[36m┏━\u001b[0m\u001b[36m━━━━━━━━━━━━━━━━━━━━━━━━━━━━\u001b[0m\u001b[36m Agent Playground \u001b[0m\u001b[36m━━━━━━━━━━━━━━━━━━━━━━━━━━━━━\u001b[0m\u001b[36m━┓\u001b[0m\n",
       "\u001b[36m┃\u001b[0m                                                                             \u001b[36m┃\u001b[0m\n",
       "\u001b[36m┃\u001b[0m                                                                             \u001b[36m┃\u001b[0m\n",
       "\u001b[36m┃\u001b[0m  \u001b[1;32mPlayground URL:\u001b[0m \u001b]8;id=691347;https://app.agno.com/playground?endpoint=localhost%3A7777\u001b\\https://app.agno.com/playground?endpoint=localhost%3A7777\u001b]8;;\u001b\\  \u001b[36m┃\u001b[0m\n",
       "\u001b[36m┃\u001b[0m                                                                             \u001b[36m┃\u001b[0m\n",
       "\u001b[36m┃\u001b[0m                                                                             \u001b[36m┃\u001b[0m\n",
       "\u001b[36m┗━━━━━━━━━━━━━━━━━━━━━━━━━━━━━━━━━━━━━━━━━━━━━━━━━━━━━━━━━━━━━━━━━━━━━━━━━━━━━┛\u001b[0m\n"
      ]
     },
     "metadata": {},
     "output_type": "display_data"
    },
    {
     "name": "stderr",
     "output_type": "stream",
     "text": [
      "INFO:     Will watch for changes in these directories: ['/home/ythuang/workspace/agent-learn/agno-learn']\n",
      "INFO:     Uvicorn running on http://localhost:7777 (Press CTRL+C to quit)\n",
      "INFO:     Started reloader process [73909] using StatReload\n",
      "ERROR:    Error loading ASGI app. Could not import module \"stock_analyzer\".\n",
      "INFO:     Stopping reloader process [73909]\n"
     ]
    }
   ],
   "source": [
    "from agno.agent import Agent\n",
    "from agno.models.azure  import AzureOpenAI\n",
    "\n",
    "from agno.playground import Playground, serve_playground_app\n",
    "from agno.storage.sqlite import SqliteStorage\n",
    "from agno.tools.duckduckgo import DuckDuckGoTools\n",
    "from agno.tools.yfinance import YFinanceTools\n",
    "\n",
    "agent_storage: str = \"tmp/agents.db\"\n",
    "\n",
    "web_agent = Agent(\n",
    "    name=\"Web Agent\",\n",
    "    model=AzureOpenAI(id=\"gpt-4.1-mini\"),\n",
    "    tools=[DuckDuckGoTools()],\n",
    "    instructions=[\"Always include sources\"],\n",
    "    # Store the agent sessions in a sqlite database\n",
    "    storage=SqliteStorage(table_name=\"web_agent\", db_file=agent_storage),\n",
    "    # Adds the current date and time to the instructions\n",
    "    add_datetime_to_instructions=True,\n",
    "    # Adds the history of the conversation to the messages\n",
    "    add_history_to_messages=True,\n",
    "    # Number of history responses to add to the messages\n",
    "    num_history_responses=5,\n",
    "    # Adds markdown formatting to the messages\n",
    "    markdown=True,\n",
    ")\n",
    "\n",
    "finance_agent = Agent(\n",
    "    name=\"Finance Agent\",\n",
    "    model=AzureOpenAI(id=\"gpt-4.1-mini\"),\n",
    "    tools=[YFinanceTools(stock_price=True, analyst_recommendations=True, company_info=True, company_news=True)],\n",
    "    instructions=[\"Always use tables to display data\"],\n",
    "    storage=SqliteStorage(table_name=\"finance_agent\", db_file=agent_storage),\n",
    "    add_datetime_to_instructions=True,\n",
    "    add_history_to_messages=True,\n",
    "    num_history_responses=5,\n",
    "    markdown=True,\n",
    ")\n",
    "\n",
    "app = Playground(agents=[web_agent, finance_agent]).get_app()\n",
    "\n",
    "if __name__ == \"__main__\":\n",
    "    serve_playground_app(\"stock_analyzer:app\", reload=True)\n"
   ]
  }
 ],
 "metadata": {
  "kernelspec": {
   "display_name": ".venv",
   "language": "python",
   "name": "python3"
  },
  "language_info": {
   "codemirror_mode": {
    "name": "ipython",
    "version": 3
   },
   "file_extension": ".py",
   "mimetype": "text/x-python",
   "name": "python",
   "nbconvert_exporter": "python",
   "pygments_lexer": "ipython3",
   "version": "3.12.3"
  }
 },
 "nbformat": 4,
 "nbformat_minor": 5
}
