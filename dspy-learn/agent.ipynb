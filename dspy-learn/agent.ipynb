{
 "cells": [
  {
   "cell_type": "code",
   "execution_count": 3,
   "id": "b9016b41",
   "metadata": {},
   "outputs": [],
   "source": [
    "import dspy\n",
    "\n",
    "gpt41mini = dspy.LM('azure/gpt-4.1-mini', temperature=0.7)\n",
    "gpt41 = dspy.LM('azure/gpt-4.1', temperature=0.7)\n",
    "\n",
    "dspy.configure(lm=gpt41mini)"
   ]
  },
  {
   "cell_type": "code",
   "execution_count": 4,
   "id": "6f74bbab",
   "metadata": {},
   "outputs": [
    {
     "name": "stderr",
     "output_type": "stream",
     "text": [
      "Downloading data: 100%|██████████| 9.21M/9.21M [00:04<00:00, 2.20MB/s]\n",
      "Downloading data: 100%|██████████| 2.15M/2.15M [00:01<00:00, 1.83MB/s]\n",
      "Downloading data: 100%|██████████| 899k/899k [00:00<00:00, 2.82MB/s]\n",
      "Generating train split: 100%|██████████| 18171/18171 [00:00<00:00, 28656.99 examples/s]\n",
      "Generating validation split: 100%|██████████| 4000/4000 [00:00<00:00, 36888.41 examples/s]\n",
      "Generating test split: 100%|██████████| 4000/4000 [00:00<00:00, 51961.63 examples/s]\n"
     ]
    }
   ],
   "source": [
    "import random\n",
    "from dspy.datasets import DataLoader\n",
    "\n",
    "kwargs = dict(fields=(\"claim\", \"supporting_facts\", \"hpqa_id\", \"num_hops\"), input_keys=(\"claim\",))\n",
    "hover = DataLoader().from_huggingface(dataset_name=\"hover-nlp/hover\", split=\"train\", trust_remote_code=True, **kwargs)\n",
    "\n",
    "hpqa_ids = set()\n",
    "hover = [\n",
    "    dspy.Example(claim=x.claim, titles=list(set([y[\"key\"] for y in x.supporting_facts]))).with_inputs(\"claim\")\n",
    "    for x in hover\n",
    "    if x[\"num_hops\"] == 3 and x[\"hpqa_id\"] not in hpqa_ids and not hpqa_ids.add(x[\"hpqa_id\"])\n",
    "]\n",
    "\n",
    "random.Random(0).shuffle(hover)\n",
    "trainset, devset, testset = hover[:100], hover[100:200], hover[650:]"
   ]
  },
  {
   "cell_type": "code",
   "execution_count": 5,
   "id": "f703fe2a",
   "metadata": {},
   "outputs": [
    {
     "name": "stdout",
     "output_type": "stream",
     "text": [
      "Claim: This director is known for his work on Miss Potter. The Academy of Motion Picture Arts and Sciences presents the award in which he was nominated for his work in \"Babe\".\n",
      "Pages that must be retrieved: ['Chris Noonan', 'Miss Potter', 'Academy Award for Best Director']\n"
     ]
    }
   ],
   "source": [
    "example = trainset[0]\n",
    "\n",
    "print(\"Claim:\", example.claim)\n",
    "print(\"Pages that must be retrieved:\", example.titles)"
   ]
  },
  {
   "cell_type": "code",
   "execution_count": 6,
   "id": "675c0ce7",
   "metadata": {},
   "outputs": [],
   "source": [
    "DOCS = {}\n",
    "\n",
    "def search(query: str, k: int) -> list[str]:\n",
    "    results = dspy.ColBERTv2(url='http://20.102.90.50:2017/wiki17_abstracts')(query, k=k)\n",
    "    results = [x['text'] for x in results]\n",
    "\n",
    "    for result in results:\n",
    "        title, text = result.split(\" | \", 1)\n",
    "        DOCS[title] = text\n",
    "\n",
    "    return results"
   ]
  },
  {
   "cell_type": "code",
   "execution_count": 7,
   "id": "a0b4f5b9",
   "metadata": {},
   "outputs": [],
   "source": [
    "def search_wikipedia(query: str) -> list[str]:\n",
    "    \"\"\"Returns top-5 results and then the titles of the top-5 to top-30 results.\"\"\"\n",
    "\n",
    "    topK = search(query, 30)\n",
    "    titles, topK = [f\"`{x.split(' | ')[0]}`\" for x in topK[5:30]], topK[:5]\n",
    "    return topK + [f\"Other retrieved pages have titles: {', '.join(titles)}.\"]\n",
    "\n",
    "def lookup_wikipedia(title: str) -> str:\n",
    "    \"\"\"Returns the text of the Wikipedia page, if it exists.\"\"\"\n",
    "\n",
    "    if title in DOCS:\n",
    "        return DOCS[title]\n",
    "\n",
    "    results = [x for x in search(title, 10) if x.startswith(title + \" | \")]\n",
    "    if not results:\n",
    "        return f\"No Wikipedia page found for title: {title}\"\n",
    "    return results[0]"
   ]
  },
  {
   "cell_type": "code",
   "execution_count": 8,
   "id": "c912e819",
   "metadata": {},
   "outputs": [],
   "source": [
    "instructions = \"Find all Wikipedia titles relevant to verifying (or refuting) the claim.\"\n",
    "signature = dspy.Signature(\"claim -> titles: list[str]\", instructions)\n",
    "react = dspy.ReAct(signature, tools=[search_wikipedia, lookup_wikipedia], max_iters=20)"
   ]
  },
  {
   "cell_type": "code",
   "execution_count": 9,
   "id": "8f222a18",
   "metadata": {},
   "outputs": [
    {
     "data": {
      "text/plain": [
       "['David Gregory (physician)']"
      ]
     },
     "execution_count": 9,
     "metadata": {},
     "output_type": "execute_result"
    }
   ],
   "source": [
    "react(claim=\"David Gregory was born in 1625.\").titles[:3]"
   ]
  },
  {
   "cell_type": "code",
   "execution_count": 10,
   "id": "ca50ea5f",
   "metadata": {},
   "outputs": [],
   "source": [
    "def top5_recall(example, pred, trace=None):\n",
    "    gold_titles = example.titles\n",
    "    recall = sum(x in pred.titles[:5] for x in gold_titles) / len(gold_titles)\n",
    "\n",
    "    # If we're \"bootstrapping\" for optimization, return True if and only if the recall is perfect.\n",
    "    if trace is not None:\n",
    "        return recall >= 1.0\n",
    "    \n",
    "    # If we're just doing inference, just measure the recall.\n",
    "    return recall\n",
    "\n",
    "evaluate = dspy.Evaluate(devset=devset, metric=top5_recall, num_threads=16, display_progress=True, display_table=5)"
   ]
  },
  {
   "cell_type": "code",
   "execution_count": 11,
   "id": "46f11e41",
   "metadata": {},
   "outputs": [
    {
     "name": "stdout",
     "output_type": "stream",
     "text": [
      "Average Metric: 86.33 / 100 (86.3%): 100%|██████████| 100/100 [02:42<00:00,  1.63s/it]"
     ]
    },
    {
     "name": "stderr",
     "output_type": "stream",
     "text": [
      "2025/05/01 14:04:39 INFO dspy.evaluate.evaluate: Average Metric: 86.33333333333333 / 100 (86.3%)\n"
     ]
    },
    {
     "name": "stdout",
     "output_type": "stream",
     "text": [
      "\n"
     ]
    },
    {
     "data": {
      "text/html": [
       "<div>\n",
       "<style scoped>\n",
       "    .dataframe tbody tr th:only-of-type {\n",
       "        vertical-align: middle;\n",
       "    }\n",
       "\n",
       "    .dataframe tbody tr th {\n",
       "        vertical-align: top;\n",
       "    }\n",
       "\n",
       "    .dataframe thead th {\n",
       "        text-align: right;\n",
       "    }\n",
       "</style>\n",
       "<table border=\"1\" class=\"dataframe\">\n",
       "  <thead>\n",
       "    <tr style=\"text-align: right;\">\n",
       "      <th></th>\n",
       "      <th>claim</th>\n",
       "      <th>example_titles</th>\n",
       "      <th>trajectory</th>\n",
       "      <th>reasoning</th>\n",
       "      <th>pred_titles</th>\n",
       "      <th>top5_recall</th>\n",
       "    </tr>\n",
       "  </thead>\n",
       "  <tbody>\n",
       "    <tr>\n",
       "      <th>0</th>\n",
       "      <td>The Church of England's movement that inspired the Trinity Episcop...</td>\n",
       "      <td>[Trinity Episcopal Church (Houghton, Michigan), Oxford Movement, S...</td>\n",
       "      <td>{'thought_0': \"To verify this claim, I need to identify the Church...</td>\n",
       "      <td>The claim states that the Church of England's movement inspiring t...</td>\n",
       "      <td>[Trinity Episcopal Church (Houghton, Michigan), Oxford Movement, S...</td>\n",
       "      <td>✔️ [1.000]</td>\n",
       "    </tr>\n",
       "    <tr>\n",
       "      <th>1</th>\n",
       "      <td>Red, White &amp; Crüe and this athlete both fight. The french fighter ...</td>\n",
       "      <td>[Mike Tyson, Bobby Stewart, Red, White &amp;amp; Crüe]</td>\n",
       "      <td>{'thought_0': 'The claim references \"Red, White &amp; Crüe\" and a Fren...</td>\n",
       "      <td>The claim connects \"Red, White &amp; Crüe,\" which is identified as an ...</td>\n",
       "      <td>[Red, White &amp; Crüe, Bobby Stewart, Mike Tyson, Christophe Mendy, F...</td>\n",
       "      <td>✔️ [0.667]</td>\n",
       "    </tr>\n",
       "    <tr>\n",
       "      <th>2</th>\n",
       "      <td>The writer/director/actor from Glen or Glenda and Fernand Rivers s...</td>\n",
       "      <td>[Ed Wood, Glen or Glenda, Fernand Rivers]</td>\n",
       "      <td>{'thought_0': 'To verify the claim, I need to first identify the w...</td>\n",
       "      <td>The claim states that the writer/director/actor from \"Glen or Glen...</td>\n",
       "      <td>[Glen or Glenda, Ed Wood, Fernand Rivers]</td>\n",
       "      <td>✔️ [1.000]</td>\n",
       "    </tr>\n",
       "    <tr>\n",
       "      <th>3</th>\n",
       "      <td>The film by Sandi Sissel was released before The End of Suburbia.</td>\n",
       "      <td>[The End of Suburbia, Sandi Sissel, Chicken Ranch (film)]</td>\n",
       "      <td>{'thought_0': 'To verify the claim, I need to find the film direct...</td>\n",
       "      <td>The claim states that a film by Sandi Sissel was released before \"...</td>\n",
       "      <td>[Sandi Sissel, The End of Suburbia, Chicken Ranch (film)]</td>\n",
       "      <td>✔️ [1.000]</td>\n",
       "    </tr>\n",
       "    <tr>\n",
       "      <th>4</th>\n",
       "      <td>The actor who played captain hook in the live production with Tayl...</td>\n",
       "      <td>[Christopher Walken, Peter Pan Live!, Taylor Louderman]</td>\n",
       "      <td>{'thought_0': 'To verify this claim, I need to identify the actor ...</td>\n",
       "      <td>The claim is that the actor who played Captain Hook in the live pr...</td>\n",
       "      <td>[Taylor Louderman, Peter Pan Live!, Christopher Walken, The Deer H...</td>\n",
       "      <td>✔️ [1.000]</td>\n",
       "    </tr>\n",
       "  </tbody>\n",
       "</table>\n",
       "</div>"
      ],
      "text/plain": [
       "                                                                   claim  \\\n",
       "0  The Church of England's movement that inspired the Trinity Episcop...   \n",
       "1  Red, White & Crüe and this athlete both fight. The french fighter ...   \n",
       "2  The writer/director/actor from Glen or Glenda and Fernand Rivers s...   \n",
       "3      The film by Sandi Sissel was released before The End of Suburbia.   \n",
       "4  The actor who played captain hook in the live production with Tayl...   \n",
       "\n",
       "                                                          example_titles  \\\n",
       "0  [Trinity Episcopal Church (Houghton, Michigan), Oxford Movement, S...   \n",
       "1                     [Mike Tyson, Bobby Stewart, Red, White &amp; Crüe]   \n",
       "2                              [Ed Wood, Glen or Glenda, Fernand Rivers]   \n",
       "3              [The End of Suburbia, Sandi Sissel, Chicken Ranch (film)]   \n",
       "4                [Christopher Walken, Peter Pan Live!, Taylor Louderman]   \n",
       "\n",
       "                                                              trajectory  \\\n",
       "0  {'thought_0': \"To verify this claim, I need to identify the Church...   \n",
       "1  {'thought_0': 'The claim references \"Red, White & Crüe\" and a Fren...   \n",
       "2  {'thought_0': 'To verify the claim, I need to first identify the w...   \n",
       "3  {'thought_0': 'To verify the claim, I need to find the film direct...   \n",
       "4  {'thought_0': 'To verify this claim, I need to identify the actor ...   \n",
       "\n",
       "                                                               reasoning  \\\n",
       "0  The claim states that the Church of England's movement inspiring t...   \n",
       "1  The claim connects \"Red, White & Crüe,\" which is identified as an ...   \n",
       "2  The claim states that the writer/director/actor from \"Glen or Glen...   \n",
       "3  The claim states that a film by Sandi Sissel was released before \"...   \n",
       "4  The claim is that the actor who played Captain Hook in the live pr...   \n",
       "\n",
       "                                                             pred_titles  \\\n",
       "0  [Trinity Episcopal Church (Houghton, Michigan), Oxford Movement, S...   \n",
       "1  [Red, White & Crüe, Bobby Stewart, Mike Tyson, Christophe Mendy, F...   \n",
       "2                              [Glen or Glenda, Ed Wood, Fernand Rivers]   \n",
       "3              [Sandi Sissel, The End of Suburbia, Chicken Ranch (film)]   \n",
       "4  [Taylor Louderman, Peter Pan Live!, Christopher Walken, The Deer H...   \n",
       "\n",
       "  top5_recall  \n",
       "0  ✔️ [1.000]  \n",
       "1  ✔️ [0.667]  \n",
       "2  ✔️ [1.000]  \n",
       "3  ✔️ [1.000]  \n",
       "4  ✔️ [1.000]  "
      ]
     },
     "metadata": {},
     "output_type": "display_data"
    },
    {
     "data": {
      "text/html": [
       "\n",
       "            <div style='\n",
       "                text-align: center;\n",
       "                font-size: 16px;\n",
       "                font-weight: bold;\n",
       "                color: #555;\n",
       "                margin: 10px 0;'>\n",
       "                ... 95 more rows not displayed ...\n",
       "            </div>\n",
       "            "
      ],
      "text/plain": [
       "<IPython.core.display.HTML object>"
      ]
     },
     "metadata": {},
     "output_type": "display_data"
    },
    {
     "data": {
      "text/plain": [
       "86.33"
      ]
     },
     "execution_count": 11,
     "metadata": {},
     "output_type": "execute_result"
    }
   ],
   "source": [
    "def safe_react(claim: str):\n",
    "    try:\n",
    "        return react(claim=claim)\n",
    "    except Exception as e:\n",
    "        return dspy.Prediction(titles=[])\n",
    "\n",
    "evaluate(safe_react)"
   ]
  },
  {
   "cell_type": "code",
   "execution_count": 12,
   "id": "776b305d",
   "metadata": {},
   "outputs": [
    {
     "name": "stderr",
     "output_type": "stream",
     "text": [
      "2025/05/01 14:06:40 INFO dspy.teleprompt.mipro_optimizer_v2: \n",
      "RUNNING WITH THE FOLLOWING MEDIUM AUTO RUN SETTINGS:\n",
      "num_trials: 25\n",
      "minibatch: True\n",
      "num_candidates: 9\n",
      "valset size: 80\n",
      "\n",
      "2025/05/01 14:06:56 INFO dspy.teleprompt.mipro_optimizer_v2: \n",
      "==> STEP 1: BOOTSTRAP FEWSHOT EXAMPLES <==\n",
      "2025/05/01 14:06:56 INFO dspy.teleprompt.mipro_optimizer_v2: These will be used as few-shot example candidates for our program and for creating instructions.\n",
      "\n",
      "2025/05/01 14:06:56 INFO dspy.teleprompt.mipro_optimizer_v2: Bootstrapping N=9 sets of demonstrations...\n"
     ]
    },
    {
     "name": "stdout",
     "output_type": "stream",
     "text": [
      "Bootstrapping set 1/9\n",
      "Bootstrapping set 2/9\n"
     ]
    },
    {
     "name": "stderr",
     "output_type": "stream",
     "text": [
      " 40%|████      | 8/20 [01:33<02:19, 11.64s/it]\n"
     ]
    },
    {
     "name": "stdout",
     "output_type": "stream",
     "text": [
      "Bootstrapped 3 full traces after 8 examples for up to 1 rounds, amounting to 8 attempts.\n",
      "Bootstrapping set 3/9\n"
     ]
    },
    {
     "name": "stderr",
     "output_type": "stream",
     "text": [
      " 15%|█▌        | 3/20 [00:27<02:36,  9.20s/it]\n"
     ]
    },
    {
     "name": "stdout",
     "output_type": "stream",
     "text": [
      "Bootstrapped 3 full traces after 3 examples for up to 1 rounds, amounting to 3 attempts.\n",
      "Bootstrapping set 4/9\n"
     ]
    },
    {
     "name": "stderr",
     "output_type": "stream",
     "text": [
      " 10%|█         | 2/20 [00:09<01:24,  4.68s/it]\n"
     ]
    },
    {
     "name": "stdout",
     "output_type": "stream",
     "text": [
      "Bootstrapped 1 full traces after 2 examples for up to 1 rounds, amounting to 2 attempts.\n",
      "Bootstrapping set 5/9\n"
     ]
    },
    {
     "name": "stderr",
     "output_type": "stream",
     "text": [
      " 15%|█▌        | 3/20 [00:00<00:00, 50.54it/s]\n"
     ]
    },
    {
     "name": "stdout",
     "output_type": "stream",
     "text": [
      "Bootstrapped 3 full traces after 3 examples for up to 1 rounds, amounting to 3 attempts.\n",
      "Bootstrapping set 6/9\n"
     ]
    },
    {
     "name": "stderr",
     "output_type": "stream",
     "text": [
      " 25%|██▌       | 5/20 [00:48<02:26,  9.78s/it]\n"
     ]
    },
    {
     "name": "stdout",
     "output_type": "stream",
     "text": [
      "Bootstrapped 3 full traces after 5 examples for up to 1 rounds, amounting to 5 attempts.\n",
      "Bootstrapping set 7/9\n"
     ]
    },
    {
     "name": "stderr",
     "output_type": "stream",
     "text": [
      " 15%|█▌        | 3/20 [01:11<06:42, 23.68s/it]\n"
     ]
    },
    {
     "name": "stdout",
     "output_type": "stream",
     "text": [
      "Bootstrapped 3 full traces after 3 examples for up to 1 rounds, amounting to 3 attempts.\n",
      "Bootstrapping set 8/9\n"
     ]
    },
    {
     "name": "stderr",
     "output_type": "stream",
     "text": [
      " 10%|█         | 2/20 [00:00<00:00, 59.68it/s]\n"
     ]
    },
    {
     "name": "stdout",
     "output_type": "stream",
     "text": [
      "Bootstrapped 1 full traces after 2 examples for up to 1 rounds, amounting to 2 attempts.\n",
      "Bootstrapping set 9/9\n"
     ]
    },
    {
     "name": "stderr",
     "output_type": "stream",
     "text": [
      " 25%|██▌       | 5/20 [00:56<02:50, 11.36s/it]\n",
      "2025/05/01 14:12:03 INFO dspy.teleprompt.mipro_optimizer_v2: \n",
      "==> STEP 2: PROPOSE INSTRUCTION CANDIDATES <==\n",
      "2025/05/01 14:12:03 INFO dspy.teleprompt.mipro_optimizer_v2: We will use the few-shot examples from the previous step, a generated dataset summary, a summary of the program code, and a randomly selected prompting tip to propose instructions.\n"
     ]
    },
    {
     "name": "stdout",
     "output_type": "stream",
     "text": [
      "Bootstrapped 3 full traces after 5 examples for up to 1 rounds, amounting to 5 attempts.\n"
     ]
    },
    {
     "name": "stderr",
     "output_type": "stream",
     "text": [
      "2025/05/01 14:12:21 INFO dspy.teleprompt.mipro_optimizer_v2: \n",
      "Proposing instructions...\n",
      "\n",
      "2025/05/01 14:16:57 INFO dspy.teleprompt.mipro_optimizer_v2: Proposed Instructions for Predictor 0:\n",
      "\n",
      "2025/05/01 14:16:57 INFO dspy.teleprompt.mipro_optimizer_v2: 0: Find all Wikipedia titles relevant to verifying (or refuting) the claim.\n",
      "\n",
      "You are an Agent. In each episode, you will be given the fields `claim` as input. And you can see your past trajectory so far.\n",
      "Your goal is to use one or more of the supplied tools to collect any necessary information for producing `titles`.\n",
      "\n",
      "To do this, you will interleave next_thought, next_tool_name, and next_tool_args in each turn, and also when finishing the task.\n",
      "After each tool call, you receive a resulting observation, which gets appended to your trajectory.\n",
      "\n",
      "When writing next_thought, you may reason about the current situation and plan for future steps.\n",
      "When selecting the next_tool_name and its next_tool_args, the tool must be one of:\n",
      "\n",
      "(1) search_wikipedia, whose description is <desc>Returns top-5 results and then the titles of the top-5 to top-30 results.</desc>. It takes arguments {'query': {'type': 'string'}} in JSON format.\n",
      "(2) lookup_wikipedia, whose description is <desc>Returns the text of the Wikipedia page, if it exists.</desc>. It takes arguments {'title': {'type': 'string'}} in JSON format.\n",
      "(3) finish, whose description is <desc>Marks the task as complete. That is, signals that all infomration for producing the outputs, i.e. `titles`, are now available to be extracted.</desc>. It takes arguments {} in JSON format.\n",
      "\n",
      "2025/05/01 14:16:57 INFO dspy.teleprompt.mipro_optimizer_v2: 1: Given a factual claim and the current trajectory of your reasoning and tool use, generate a detailed next thought explaining your plan to verify or refute the claim, select the most appropriate next tool to use (from `search_wikipedia`, `lookup_wikipedia`, or `finish`), and provide the necessary arguments for that tool. Use the information already gathered in the trajectory to inform your reasoning and ensure each step logically advances the process of identifying all Wikipedia titles relevant to the claim.\n",
      "\n",
      "2025/05/01 14:16:57 INFO dspy.teleprompt.mipro_optimizer_v2: 2: You are a knowledgeable research assistant specializing in multi-hop fact verification using Wikipedia. Given a complex claim and the full trajectory of your previous reasoning steps, your task is to decide on the most effective next action to gather evidence for verifying or refuting the claim. At each step, carefully analyze the claim and your accumulated trajectory to:\n",
      "\n",
      "- Articulate your next thought, explaining your reasoning about what information is missing, how to disambiguate entities or references, and what your immediate plan is.\n",
      "- Choose the next tool to use: either `search_wikipedia` (to find relevant Wikipedia articles by query), `lookup_wikipedia` (to read the text of a specific Wikipedia article), or `finish` (when you have gathered all information needed to extract relevant Wikipedia titles).\n",
      "- Specify the arguments for the selected tool (e.g., search query or page title).\n",
      "\n",
      "Be sure to reason explicitly about pronouns, indirect references, or ambiguous entities in the claim, and plan your actions to maximize the likelihood of retrieving all relevant Wikipedia articles. Your output should include your next thought, the chosen tool, and its arguments, formatted as `next_thought`, `next_tool_name`, and `next_tool_args`.\n",
      "\n",
      "2025/05/01 14:16:57 INFO dspy.teleprompt.mipro_optimizer_v2: 3: You are an expert fact-checking agent tasked with assisting an investigative journalist who is about to publish a high-profile article. The credibility of the publication is on the line, and any factual error could result in significant reputational damage. For each claim provided, you must meticulously determine all Wikipedia article titles that would be necessary to verify or refute it. \n",
      "\n",
      "At each step, analyze the claim and the accumulated trajectory (your previous thoughts, tool calls, and observations). Based on this context, reason carefully about what information is still needed, what ambiguities remain, and which tool (search_wikipedia, lookup_wikipedia, or finish) will most efficiently advance your investigation. \n",
      "\n",
      "After each tool call, incorporate the new information into your trajectory and update your plan. When you are confident that you have identified all relevant Wikipedia titles needed to verify or refute the claim, select the \"finish\" tool. \n",
      "\n",
      "Your responses must reflect a high level of scrutiny, clear reasoning, and a sense of urgency, as the accuracy of your outputs could determine the outcome of a major news story. \n",
      "\n",
      "For each turn, provide:\n",
      "- Your next thought (reasoning and plan)\n",
      "- The next tool name (from the allowed options)\n",
      "- The next tool arguments (formatted as required)\n",
      "\n",
      "Remember: Incomplete or incorrect title selection may result in the publication of misinformation—proceed with utmost diligence.\n",
      "\n",
      "2025/05/01 14:16:57 INFO dspy.teleprompt.mipro_optimizer_v2: 4: You are participating in a high-stakes fact-checking operation for a global news organization, where your decisions directly impact the accuracy of information disseminated to millions of people. Given a complex claim and the full record of your previous actions (trajectory), your mission is to strategically determine the next best step to gather all Wikipedia article titles necessary to rigorously verify or refute the claim. \n",
      "\n",
      "At each turn, carefully analyze both the claim and your current trajectory to:\n",
      "1. Articulate your reasoning and plan for the next action as your `next_thought`.\n",
      "2. Select the most appropriate tool for the situation (`search_wikipedia`, `lookup_wikipedia`, or `finish`), and specify the right arguments for your chosen tool.\n",
      "3. Ensure your approach is methodical, fact-driven, and considers possible ambiguities, implicit references, or the need for multi-hop reasoning.\n",
      "\n",
      "Remember: The credibility of your organization is on the line. Each tool call should be justified, and you must be confident that, when you choose `finish`, all relevant Wikipedia titles needed for a thorough fact-check have been identified. Proceed step by step, reasoning transparently, and adapt your plan as new information emerges from your tool calls.\n",
      "\n",
      "2025/05/01 14:16:57 INFO dspy.teleprompt.mipro_optimizer_v2: 5: You are an expert fact-checking agent tasked with verifying high-stakes claims that could influence public understanding or policy decisions. Given a complex claim and the record of your previous investigative steps (the trajectory), you must strategically plan your next move to uncover all Wikipedia articles that could be critical in confirming or disproving the claim. Your decisions may affect the outcome of a major news investigation or a government report, so accuracy and thoroughness are essential.\n",
      "\n",
      "At each step, carefully analyze what information is still missing or ambiguous. Use your reasoning to determine whether to search for new articles, look up the content of a specific Wikipedia page, or conclude the evidence-gathering process. Explicitly document your thought process, select the most appropriate tool (search_wikipedia, lookup_wikipedia, or finish), and provide precise arguments for your chosen tool.\n",
      "\n",
      "Remember: The reliability of your investigation depends on your ability to anticipate what evidence is needed, resolve ambiguities (including pronouns or indirect references), and maximize the relevance of the Wikipedia titles you identify. Approach each decision as if the credibility of your organization is at stake.\n",
      "\n",
      "2025/05/01 14:16:57 INFO dspy.teleprompt.mipro_optimizer_v2: 6: Given a claim and the current trajectory (which includes your previous thoughts, tool selections, arguments, and observations), determine the most effective next step to gather all Wikipedia article titles relevant to verifying or refuting the claim. \n",
      "\n",
      "For each step:\n",
      "- Clearly explain your reasoning and plan in `next_thought`, considering what information you have already gathered, what is still missing, and how you intend to proceed.\n",
      "- Choose the most appropriate tool for your next action by setting `next_tool_name` to one of: `search_wikipedia` (to search for relevant articles), `lookup_wikipedia` (to retrieve the content of a specific article), or `finish` (if all necessary information has been collected).\n",
      "- Provide the required arguments for the chosen tool in `next_tool_args`, formatted as a JSON object.\n",
      "\n",
      "Be thorough in your reasoning, especially in disambiguating entities, resolving pronouns, and planning multi-hop searches when needed. Continue this process iteratively, using the trajectory to inform your decisions, until you are ready to finish and extract all relevant Wikipedia titles. \n",
      "\n",
      "Your output for each turn should include `next_thought`, `next_tool_name`, and `next_tool_args`.\n",
      "\n",
      "2025/05/01 14:16:57 INFO dspy.teleprompt.mipro_optimizer_v2: 7: You are an expert fact-checker working for a major news organization, and you have been tasked with investigating a complex, high-profile claim that could significantly impact public understanding if reported incorrectly. Your responsibility is to find all Wikipedia article titles that are crucial for verifying or refuting the claim, ensuring that every inference is supported by reliable evidence. \n",
      "\n",
      "At each step, use step-by-step reasoning to decide your next action: whether to search for new information, look up specific Wikipedia pages, or conclude when you have gathered enough data. Document your thought process transparently, select the most effective tool for the job, and specify precise arguments for your chosen tool. Your decisions will directly influence the accuracy and credibility of the final report—so be thorough, logical, and meticulous. \n",
      "\n",
      "Remember: missing a relevant Wikipedia title or failing to fully investigate the claim could result in misinformation being published. Proceed carefully, justify each step, and do not finish until you are confident that all necessary Wikipedia titles have been identified.\n",
      "\n",
      "2025/05/01 14:16:57 INFO dspy.teleprompt.mipro_optimizer_v2: 8: Given a claim and the current trajectory of actions and observations, reason step by step to determine the next best action for gathering Wikipedia evidence relevant to verifying or refuting the claim. Output your next thought (detailing your reasoning and plan), select the most appropriate tool to use next (`search_wikipedia`, `lookup_wikipedia`, or `finish`), and provide the necessary arguments for that tool in JSON format.\n",
      "\n",
      "2025/05/01 14:16:57 INFO dspy.teleprompt.mipro_optimizer_v2: \n",
      "\n",
      "2025/05/01 14:16:57 INFO dspy.teleprompt.mipro_optimizer_v2: Proposed Instructions for Predictor 1:\n",
      "\n",
      "2025/05/01 14:16:57 INFO dspy.teleprompt.mipro_optimizer_v2: 0: Find all Wikipedia titles relevant to verifying (or refuting) the claim.\n",
      "\n",
      "2025/05/01 14:16:57 INFO dspy.teleprompt.mipro_optimizer_v2: 1: Given a factual claim and a detailed trajectory of the agent's reasoning and tool interactions, synthesize a step-by-step explanation (reasoning) that demonstrates how the evidence and logic from the trajectory support the verification or refutation of the claim. Then, extract and list all Wikipedia article titles that are most relevant for verifying or refuting the claim, ensuring each title is directly supported by information in the trajectory. Your reasoning should be thorough, reference the evidence uncovered, and make the agent's decision process transparent and easy to audit.\n",
      "\n",
      "2025/05/01 14:16:57 INFO dspy.teleprompt.mipro_optimizer_v2: 2: Carefully review the provided claim and the full trajectory of tool-assisted reasoning steps (including thoughts, actions, and observations). Using this information, produce two outputs: \n",
      "\n",
      "1. A thorough, step-by-step explanation detailing how you identified which Wikipedia articles are most relevant for verifying or refuting the claim. Your reasoning should clearly reference evidence collected during the trajectory and explicitly justify the inclusion of each selected article title.\n",
      "2. A concise list of Wikipedia article titles that are most pertinent for fact-checking the claim, ensuring that each title is directly supported by your reasoning and the information gathered in the trajectory.\n",
      "\n",
      "Present your outputs as a logical, well-structured explanation followed by the finalized list of Wikipedia titles.\n",
      "\n",
      "2025/05/01 14:16:57 INFO dspy.teleprompt.mipro_optimizer_v2: 3: Given a complex factual claim and a detailed trajectory of the agent's reasoning and tool interactions, synthesize a comprehensive, step-by-step explanation (reasoning) that transparently traces how the information in the trajectory verifies or refutes the claim. Your explanation should clearly reference the relevant facts, entities, and logical deductions made at each stage, explicitly connecting evidence from the trajectory to components of the claim. Then, identify and list all Wikipedia article titles that are directly relevant and necessary for verifying or refuting the claim, ensuring each title is justified by its role in the reasoning process. Present your outputs as: (1) a concise but thorough chain-of-thought summary (reasoning), and (2) a complete list of pertinent Wikipedia titles (titles).\n",
      "\n",
      "2025/05/01 14:16:57 INFO dspy.teleprompt.mipro_optimizer_v2: 4: You are a knowledgeable fact-checking agent. Given a complex claim and a detailed step-by-step trajectory of prior reasoning, tool use, and observations, synthesize a clear, step-by-step explanation of how the evidence supports or refutes the claim, and provide a list of all Wikipedia article titles that are most relevant for verifying or refuting the claim. Your outputs should be:\n",
      "\n",
      "1. reasoning: A concise, logical, and transparent narrative summarizing how the information gathered in the trajectory leads to your conclusions about the claim.\n",
      "2. titles: An exhaustive list of Wikipedia article titles that directly pertain to the entities, facts, or evidence necessary to verify or refute the claim.\n",
      "\n",
      "Be thorough in your justification and ensure all relevant Wikipedia articles are included.\n",
      "\n",
      "2025/05/01 14:16:57 INFO dspy.teleprompt.mipro_optimizer_v2: 5: You are an expert fact-checker tasked with producing evidence for a high-profile legal investigation where the accuracy of each claim is critical. Given the claim and the full trajectory of prior agent reasoning and evidence gathering, synthesize a clear, step-by-step explanation of how the available information supports or refutes the claim. Then, produce a comprehensive and precise list of all Wikipedia article titles that are directly relevant for verifying or disproving the claim. Your output will be used as key evidence in court, so your reasoning must be thorough, well-structured, and your selection of Wikipedia titles must be exhaustive and strictly pertinent.\n",
      "\n",
      "2025/05/01 14:16:57 INFO dspy.teleprompt.mipro_optimizer_v2: 6: Given the claim and the complete trajectory of reasoning and evidence-gathering steps, synthesize a clear, step-by-step explanation of how the collected information supports or refutes the claim, and extract a comprehensive list of Wikipedia article titles that contain the key evidence needed to verify or disprove the claim. Ensure your reasoning summary references how each title contributes to the assessment of the claim, and that the title list is both exhaustive and directly relevant to the claim’s verification.\n",
      "\n",
      "2025/05/01 14:16:57 INFO dspy.teleprompt.mipro_optimizer_v2: 7: Given a claim and a detailed trajectory of prior reasoning steps, tool calls, and observations, provide a thorough, step-by-step explanation connecting the evidence found to each component of the claim. Clearly outline how the information gathered supports or refutes the claim, and extract a comprehensive list of Wikipedia article titles that are essential for fact-checking the claim based on the investigation. Ensure your reasoning is transparent, logically structured, and references specific facts or findings from the trajectory to justify the inclusion of each Wikipedia title.\n",
      "\n",
      "2025/05/01 14:16:57 INFO dspy.teleprompt.mipro_optimizer_v2: 8: You are a knowledgeable fact-checking assistant. Given a complex claim and the full trajectory of your previous reasoning steps, tool calls, and observations, synthesize a clear, step-by-step explanation detailing how the collected evidence supports or refutes the claim. Then, provide a comprehensive list of Wikipedia article titles that are most relevant for independently verifying or refuting the claim. Make sure your reasoning references specific facts and connections established during the trajectory, and select only those Wikipedia titles that are directly pertinent to the claim.\n",
      "\n",
      "2025/05/01 14:16:57 INFO dspy.teleprompt.mipro_optimizer_v2: \n",
      "\n",
      "2025/05/01 14:16:57 INFO dspy.teleprompt.mipro_optimizer_v2: ==> STEP 3: FINDING OPTIMAL PROMPT PARAMETERS <==\n",
      "2025/05/01 14:16:57 INFO dspy.teleprompt.mipro_optimizer_v2: We will evaluate the program over a series of trials with different combinations of instructions and few-shot examples to find the optimal combination using Bayesian Optimization.\n",
      "\n",
      "2025/05/01 14:16:57 INFO dspy.teleprompt.mipro_optimizer_v2: == Trial 1 / 31 - Full Evaluation of Default Program ==\n"
     ]
    },
    {
     "name": "stdout",
     "output_type": "stream",
     "text": [
      "Average Metric: 68.00 / 80 (85.0%): 100%|██████████| 80/80 [02:22<00:00,  1.78s/it]"
     ]
    },
    {
     "name": "stderr",
     "output_type": "stream",
     "text": [
      "2025/05/01 14:19:19 INFO dspy.evaluate.evaluate: Average Metric: 68.0 / 80 (85.0%)\n",
      "2025/05/01 14:19:19 INFO dspy.teleprompt.mipro_optimizer_v2: Default program score: 85.0\n",
      "\n",
      "/home/ythuang/workspace/agent-learn/.venv/lib/python3.12/site-packages/optuna/_experimental.py:31: ExperimentalWarning: Argument ``multivariate`` is an experimental feature. The interface can change in the future.\n",
      "  warnings.warn(\n",
      "2025/05/01 14:19:19 INFO dspy.teleprompt.mipro_optimizer_v2: == Trial 2 / 31 - Minibatch ==\n"
     ]
    },
    {
     "name": "stdout",
     "output_type": "stream",
     "text": [
      "\n",
      "Average Metric: 29.33 / 35 (83.8%): 100%|██████████| 35/35 [01:17<00:00,  2.22s/it]"
     ]
    },
    {
     "name": "stderr",
     "output_type": "stream",
     "text": [
      "2025/05/01 14:20:37 INFO dspy.evaluate.evaluate: Average Metric: 29.333333333333332 / 35 (83.8%)\n",
      "2025/05/01 14:20:37 INFO dspy.teleprompt.mipro_optimizer_v2: Score: 83.81 on minibatch of size 35 with parameters ['Predictor 0: Instruction 1', 'Predictor 0: Few-Shot Set 3', 'Predictor 1: Instruction 8', 'Predictor 1: Few-Shot Set 5'].\n",
      "2025/05/01 14:20:37 INFO dspy.teleprompt.mipro_optimizer_v2: Minibatch scores so far: [83.81]\n",
      "2025/05/01 14:20:37 INFO dspy.teleprompt.mipro_optimizer_v2: Full eval scores so far: [85.0]\n",
      "2025/05/01 14:20:37 INFO dspy.teleprompt.mipro_optimizer_v2: Best full score so far: 85.0\n",
      "2025/05/01 14:20:37 INFO dspy.teleprompt.mipro_optimizer_v2: =========================================\n",
      "\n",
      "\n",
      "2025/05/01 14:20:37 INFO dspy.teleprompt.mipro_optimizer_v2: == Trial 3 / 31 - Minibatch ==\n"
     ]
    },
    {
     "name": "stdout",
     "output_type": "stream",
     "text": [
      "\n",
      "Average Metric: 29.00 / 35 (82.9%): 100%|██████████| 35/35 [00:42<00:00,  1.20s/it]"
     ]
    },
    {
     "name": "stderr",
     "output_type": "stream",
     "text": [
      "2025/05/01 14:21:19 INFO dspy.evaluate.evaluate: Average Metric: 29.0 / 35 (82.9%)\n",
      "2025/05/01 14:21:19 INFO dspy.teleprompt.mipro_optimizer_v2: Score: 82.86 on minibatch of size 35 with parameters ['Predictor 0: Instruction 0', 'Predictor 0: Few-Shot Set 3', 'Predictor 1: Instruction 8', 'Predictor 1: Few-Shot Set 1'].\n",
      "2025/05/01 14:21:19 INFO dspy.teleprompt.mipro_optimizer_v2: Minibatch scores so far: [83.81, 82.86]\n",
      "2025/05/01 14:21:19 INFO dspy.teleprompt.mipro_optimizer_v2: Full eval scores so far: [85.0]\n",
      "2025/05/01 14:21:19 INFO dspy.teleprompt.mipro_optimizer_v2: Best full score so far: 85.0\n",
      "2025/05/01 14:21:19 INFO dspy.teleprompt.mipro_optimizer_v2: =========================================\n",
      "\n",
      "\n",
      "2025/05/01 14:21:19 INFO dspy.teleprompt.mipro_optimizer_v2: == Trial 4 / 31 - Minibatch ==\n"
     ]
    },
    {
     "name": "stdout",
     "output_type": "stream",
     "text": [
      "\n",
      "Average Metric: 30.00 / 35 (85.7%): 100%|██████████| 35/35 [02:01<00:00,  3.48s/it]"
     ]
    },
    {
     "name": "stderr",
     "output_type": "stream",
     "text": [
      "2025/05/01 14:23:21 INFO dspy.evaluate.evaluate: Average Metric: 30.0 / 35 (85.7%)\n",
      "2025/05/01 14:23:21 INFO dspy.teleprompt.mipro_optimizer_v2: Score: 85.71 on minibatch of size 35 with parameters ['Predictor 0: Instruction 8', 'Predictor 0: Few-Shot Set 2', 'Predictor 1: Instruction 8', 'Predictor 1: Few-Shot Set 3'].\n",
      "2025/05/01 14:23:21 INFO dspy.teleprompt.mipro_optimizer_v2: Minibatch scores so far: [83.81, 82.86, 85.71]\n",
      "2025/05/01 14:23:21 INFO dspy.teleprompt.mipro_optimizer_v2: Full eval scores so far: [85.0]\n",
      "2025/05/01 14:23:21 INFO dspy.teleprompt.mipro_optimizer_v2: Best full score so far: 85.0\n",
      "2025/05/01 14:23:21 INFO dspy.teleprompt.mipro_optimizer_v2: =========================================\n",
      "\n",
      "\n",
      "2025/05/01 14:23:21 INFO dspy.teleprompt.mipro_optimizer_v2: == Trial 5 / 31 - Minibatch ==\n"
     ]
    },
    {
     "name": "stdout",
     "output_type": "stream",
     "text": [
      "\n",
      "Average Metric: 29.33 / 35 (83.8%): 100%|██████████| 35/35 [01:55<00:00,  3.31s/it]"
     ]
    },
    {
     "name": "stderr",
     "output_type": "stream",
     "text": [
      "2025/05/01 14:25:16 INFO dspy.evaluate.evaluate: Average Metric: 29.333333333333332 / 35 (83.8%)\n",
      "2025/05/01 14:25:16 INFO dspy.teleprompt.mipro_optimizer_v2: Score: 83.81 on minibatch of size 35 with parameters ['Predictor 0: Instruction 5', 'Predictor 0: Few-Shot Set 4', 'Predictor 1: Instruction 3', 'Predictor 1: Few-Shot Set 0'].\n",
      "2025/05/01 14:25:16 INFO dspy.teleprompt.mipro_optimizer_v2: Minibatch scores so far: [83.81, 82.86, 85.71, 83.81]\n",
      "2025/05/01 14:25:16 INFO dspy.teleprompt.mipro_optimizer_v2: Full eval scores so far: [85.0]\n",
      "2025/05/01 14:25:16 INFO dspy.teleprompt.mipro_optimizer_v2: Best full score so far: 85.0\n",
      "2025/05/01 14:25:16 INFO dspy.teleprompt.mipro_optimizer_v2: =========================================\n",
      "\n",
      "\n",
      "2025/05/01 14:25:16 INFO dspy.teleprompt.mipro_optimizer_v2: == Trial 6 / 31 - Minibatch ==\n"
     ]
    },
    {
     "name": "stdout",
     "output_type": "stream",
     "text": [
      "\n",
      "Average Metric: 29.00 / 35 (82.9%): 100%|██████████| 35/35 [01:36<00:00,  2.74s/it]"
     ]
    },
    {
     "name": "stderr",
     "output_type": "stream",
     "text": [
      "2025/05/01 14:26:52 INFO dspy.evaluate.evaluate: Average Metric: 29.0 / 35 (82.9%)\n",
      "2025/05/01 14:26:52 INFO dspy.teleprompt.mipro_optimizer_v2: Score: 82.86 on minibatch of size 35 with parameters ['Predictor 0: Instruction 3', 'Predictor 0: Few-Shot Set 7', 'Predictor 1: Instruction 0', 'Predictor 1: Few-Shot Set 6'].\n",
      "2025/05/01 14:26:52 INFO dspy.teleprompt.mipro_optimizer_v2: Minibatch scores so far: [83.81, 82.86, 85.71, 83.81, 82.86]\n",
      "2025/05/01 14:26:52 INFO dspy.teleprompt.mipro_optimizer_v2: Full eval scores so far: [85.0]\n",
      "2025/05/01 14:26:52 INFO dspy.teleprompt.mipro_optimizer_v2: Best full score so far: 85.0\n",
      "2025/05/01 14:26:52 INFO dspy.teleprompt.mipro_optimizer_v2: =========================================\n",
      "\n",
      "\n",
      "2025/05/01 14:26:52 INFO dspy.teleprompt.mipro_optimizer_v2: ===== Trial 7 / 31 - Full Evaluation =====\n",
      "2025/05/01 14:26:52 INFO dspy.teleprompt.mipro_optimizer_v2: Doing full eval on next top averaging program (Avg Score: 85.71) from minibatch trials...\n"
     ]
    },
    {
     "name": "stdout",
     "output_type": "stream",
     "text": [
      "\n",
      "Average Metric: 64.33 / 80 (80.4%): 100%|██████████| 80/80 [02:14<00:00,  1.68s/it] "
     ]
    },
    {
     "name": "stderr",
     "output_type": "stream",
     "text": [
      "2025/05/01 14:29:07 INFO dspy.evaluate.evaluate: Average Metric: 64.33333333333333 / 80 (80.4%)\n",
      "2025/05/01 14:29:07 INFO dspy.teleprompt.mipro_optimizer_v2: Full eval scores so far: [85.0, 80.42]\n",
      "2025/05/01 14:29:07 INFO dspy.teleprompt.mipro_optimizer_v2: Best full score so far: 85.0\n",
      "2025/05/01 14:29:07 INFO dspy.teleprompt.mipro_optimizer_v2: =======================\n",
      "2025/05/01 14:29:07 INFO dspy.teleprompt.mipro_optimizer_v2: \n",
      "\n",
      "2025/05/01 14:29:07 INFO dspy.teleprompt.mipro_optimizer_v2: == Trial 8 / 31 - Minibatch ==\n"
     ]
    },
    {
     "name": "stdout",
     "output_type": "stream",
     "text": [
      "\n",
      "Average Metric: 29.00 / 35 (82.9%): 100%|██████████| 35/35 [01:33<00:00,  2.67s/it]"
     ]
    },
    {
     "name": "stderr",
     "output_type": "stream",
     "text": [
      "2025/05/01 14:30:41 INFO dspy.evaluate.evaluate: Average Metric: 29.0 / 35 (82.9%)\n",
      "2025/05/01 14:30:41 INFO dspy.teleprompt.mipro_optimizer_v2: Score: 82.86 on minibatch of size 35 with parameters ['Predictor 0: Instruction 4', 'Predictor 0: Few-Shot Set 0', 'Predictor 1: Instruction 7', 'Predictor 1: Few-Shot Set 3'].\n",
      "2025/05/01 14:30:41 INFO dspy.teleprompt.mipro_optimizer_v2: Minibatch scores so far: [83.81, 82.86, 85.71, 83.81, 82.86, 82.86]\n",
      "2025/05/01 14:30:41 INFO dspy.teleprompt.mipro_optimizer_v2: Full eval scores so far: [85.0, 80.42]\n",
      "2025/05/01 14:30:41 INFO dspy.teleprompt.mipro_optimizer_v2: Best full score so far: 85.0\n",
      "2025/05/01 14:30:41 INFO dspy.teleprompt.mipro_optimizer_v2: =========================================\n",
      "\n",
      "\n",
      "2025/05/01 14:30:41 INFO dspy.teleprompt.mipro_optimizer_v2: == Trial 9 / 31 - Minibatch ==\n"
     ]
    },
    {
     "name": "stdout",
     "output_type": "stream",
     "text": [
      "\n",
      "Average Metric: 29.67 / 35 (84.8%): 100%|██████████| 35/35 [01:19<00:00,  2.28s/it]"
     ]
    },
    {
     "name": "stderr",
     "output_type": "stream",
     "text": [
      "2025/05/01 14:32:00 INFO dspy.evaluate.evaluate: Average Metric: 29.666666666666668 / 35 (84.8%)\n",
      "2025/05/01 14:32:00 INFO dspy.teleprompt.mipro_optimizer_v2: Score: 84.76 on minibatch of size 35 with parameters ['Predictor 0: Instruction 8', 'Predictor 0: Few-Shot Set 7', 'Predictor 1: Instruction 1', 'Predictor 1: Few-Shot Set 3'].\n",
      "2025/05/01 14:32:00 INFO dspy.teleprompt.mipro_optimizer_v2: Minibatch scores so far: [83.81, 82.86, 85.71, 83.81, 82.86, 82.86, 84.76]\n",
      "2025/05/01 14:32:00 INFO dspy.teleprompt.mipro_optimizer_v2: Full eval scores so far: [85.0, 80.42]\n",
      "2025/05/01 14:32:00 INFO dspy.teleprompt.mipro_optimizer_v2: Best full score so far: 85.0\n",
      "2025/05/01 14:32:00 INFO dspy.teleprompt.mipro_optimizer_v2: =========================================\n",
      "\n",
      "\n",
      "2025/05/01 14:32:01 INFO dspy.teleprompt.mipro_optimizer_v2: == Trial 10 / 31 - Minibatch ==\n"
     ]
    },
    {
     "name": "stdout",
     "output_type": "stream",
     "text": [
      "\n",
      "Average Metric: 29.33 / 35 (83.8%): 100%|██████████| 35/35 [01:11<00:00,  2.03s/it]"
     ]
    },
    {
     "name": "stderr",
     "output_type": "stream",
     "text": [
      "2025/05/01 14:33:12 INFO dspy.evaluate.evaluate: Average Metric: 29.333333333333332 / 35 (83.8%)\n",
      "2025/05/01 14:33:12 INFO dspy.teleprompt.mipro_optimizer_v2: Score: 83.81 on minibatch of size 35 with parameters ['Predictor 0: Instruction 7', 'Predictor 0: Few-Shot Set 3', 'Predictor 1: Instruction 7', 'Predictor 1: Few-Shot Set 0'].\n",
      "2025/05/01 14:33:12 INFO dspy.teleprompt.mipro_optimizer_v2: Minibatch scores so far: [83.81, 82.86, 85.71, 83.81, 82.86, 82.86, 84.76, 83.81]\n",
      "2025/05/01 14:33:12 INFO dspy.teleprompt.mipro_optimizer_v2: Full eval scores so far: [85.0, 80.42]\n",
      "2025/05/01 14:33:12 INFO dspy.teleprompt.mipro_optimizer_v2: Best full score so far: 85.0\n",
      "2025/05/01 14:33:12 INFO dspy.teleprompt.mipro_optimizer_v2: ==========================================\n",
      "\n",
      "\n",
      "2025/05/01 14:33:12 INFO dspy.teleprompt.mipro_optimizer_v2: == Trial 11 / 31 - Minibatch ==\n"
     ]
    },
    {
     "name": "stdout",
     "output_type": "stream",
     "text": [
      "\n",
      "Average Metric: 28.67 / 35 (81.9%): 100%|██████████| 35/35 [01:53<00:00,  3.23s/it]"
     ]
    },
    {
     "name": "stderr",
     "output_type": "stream",
     "text": [
      "2025/05/01 14:35:05 INFO dspy.evaluate.evaluate: Average Metric: 28.666666666666668 / 35 (81.9%)\n",
      "2025/05/01 14:35:05 INFO dspy.teleprompt.mipro_optimizer_v2: Score: 81.9 on minibatch of size 35 with parameters ['Predictor 0: Instruction 1', 'Predictor 0: Few-Shot Set 2', 'Predictor 1: Instruction 8', 'Predictor 1: Few-Shot Set 3'].\n",
      "2025/05/01 14:35:05 INFO dspy.teleprompt.mipro_optimizer_v2: Minibatch scores so far: [83.81, 82.86, 85.71, 83.81, 82.86, 82.86, 84.76, 83.81, 81.9]\n",
      "2025/05/01 14:35:05 INFO dspy.teleprompt.mipro_optimizer_v2: Full eval scores so far: [85.0, 80.42]\n",
      "2025/05/01 14:35:05 INFO dspy.teleprompt.mipro_optimizer_v2: Best full score so far: 85.0\n",
      "2025/05/01 14:35:05 INFO dspy.teleprompt.mipro_optimizer_v2: ==========================================\n",
      "\n",
      "\n",
      "2025/05/01 14:35:05 INFO dspy.teleprompt.mipro_optimizer_v2: == Trial 12 / 31 - Minibatch ==\n"
     ]
    },
    {
     "name": "stdout",
     "output_type": "stream",
     "text": [
      "\n",
      "Average Metric: 31.33 / 35 (89.5%): 100%|██████████| 35/35 [01:35<00:00,  2.72s/it]"
     ]
    },
    {
     "name": "stderr",
     "output_type": "stream",
     "text": [
      "2025/05/01 14:36:40 INFO dspy.evaluate.evaluate: Average Metric: 31.333333333333332 / 35 (89.5%)\n",
      "2025/05/01 14:36:40 INFO dspy.teleprompt.mipro_optimizer_v2: Score: 89.52 on minibatch of size 35 with parameters ['Predictor 0: Instruction 6', 'Predictor 0: Few-Shot Set 0', 'Predictor 1: Instruction 0', 'Predictor 1: Few-Shot Set 0'].\n",
      "2025/05/01 14:36:40 INFO dspy.teleprompt.mipro_optimizer_v2: Minibatch scores so far: [83.81, 82.86, 85.71, 83.81, 82.86, 82.86, 84.76, 83.81, 81.9, 89.52]\n",
      "2025/05/01 14:36:40 INFO dspy.teleprompt.mipro_optimizer_v2: Full eval scores so far: [85.0, 80.42]\n",
      "2025/05/01 14:36:40 INFO dspy.teleprompt.mipro_optimizer_v2: Best full score so far: 85.0\n",
      "2025/05/01 14:36:40 INFO dspy.teleprompt.mipro_optimizer_v2: ==========================================\n",
      "\n",
      "\n",
      "2025/05/01 14:36:40 INFO dspy.teleprompt.mipro_optimizer_v2: ===== Trial 13 / 31 - Full Evaluation =====\n",
      "2025/05/01 14:36:40 INFO dspy.teleprompt.mipro_optimizer_v2: Doing full eval on next top averaging program (Avg Score: 89.52) from minibatch trials...\n"
     ]
    },
    {
     "name": "stdout",
     "output_type": "stream",
     "text": [
      "\n",
      "Average Metric: 69.33 / 80 (86.7%): 100%|██████████| 80/80 [01:31<00:00,  1.14s/it]"
     ]
    },
    {
     "name": "stderr",
     "output_type": "stream",
     "text": [
      "2025/05/01 14:38:12 INFO dspy.evaluate.evaluate: Average Metric: 69.33333333333333 / 80 (86.7%)\n",
      "2025/05/01 14:38:12 INFO dspy.teleprompt.mipro_optimizer_v2: \u001b[92mNew best full eval score!\u001b[0m Score: 86.67\n",
      "2025/05/01 14:38:12 INFO dspy.teleprompt.mipro_optimizer_v2: Full eval scores so far: [85.0, 80.42, 86.67]\n",
      "2025/05/01 14:38:12 INFO dspy.teleprompt.mipro_optimizer_v2: Best full score so far: 86.67\n",
      "2025/05/01 14:38:12 INFO dspy.teleprompt.mipro_optimizer_v2: =======================\n",
      "2025/05/01 14:38:12 INFO dspy.teleprompt.mipro_optimizer_v2: \n",
      "\n",
      "2025/05/01 14:38:12 INFO dspy.teleprompt.mipro_optimizer_v2: == Trial 14 / 31 - Minibatch ==\n"
     ]
    },
    {
     "name": "stdout",
     "output_type": "stream",
     "text": [
      "\n",
      "Average Metric: 28.67 / 35 (81.9%): 100%|██████████| 35/35 [01:20<00:00,  2.31s/it]"
     ]
    },
    {
     "name": "stderr",
     "output_type": "stream",
     "text": [
      "2025/05/01 14:39:33 INFO dspy.evaluate.evaluate: Average Metric: 28.666666666666668 / 35 (81.9%)\n",
      "2025/05/01 14:39:33 INFO dspy.teleprompt.mipro_optimizer_v2: Score: 81.9 on minibatch of size 35 with parameters ['Predictor 0: Instruction 6', 'Predictor 0: Few-Shot Set 5', 'Predictor 1: Instruction 0', 'Predictor 1: Few-Shot Set 2'].\n",
      "2025/05/01 14:39:33 INFO dspy.teleprompt.mipro_optimizer_v2: Minibatch scores so far: [83.81, 82.86, 85.71, 83.81, 82.86, 82.86, 84.76, 83.81, 81.9, 89.52, 81.9]\n",
      "2025/05/01 14:39:33 INFO dspy.teleprompt.mipro_optimizer_v2: Full eval scores so far: [85.0, 80.42, 86.67]\n",
      "2025/05/01 14:39:33 INFO dspy.teleprompt.mipro_optimizer_v2: Best full score so far: 86.67\n",
      "2025/05/01 14:39:33 INFO dspy.teleprompt.mipro_optimizer_v2: ==========================================\n",
      "\n",
      "\n",
      "2025/05/01 14:39:33 INFO dspy.teleprompt.mipro_optimizer_v2: == Trial 15 / 31 - Minibatch ==\n"
     ]
    },
    {
     "name": "stdout",
     "output_type": "stream",
     "text": [
      "\n",
      "Average Metric: 26.00 / 35 (74.3%): 100%|██████████| 35/35 [01:21<00:00,  2.34s/it]"
     ]
    },
    {
     "name": "stderr",
     "output_type": "stream",
     "text": [
      "2025/05/01 14:40:55 INFO dspy.evaluate.evaluate: Average Metric: 26.0 / 35 (74.3%)\n",
      "2025/05/01 14:40:55 INFO dspy.teleprompt.mipro_optimizer_v2: Score: 74.29 on minibatch of size 35 with parameters ['Predictor 0: Instruction 6', 'Predictor 0: Few-Shot Set 1', 'Predictor 1: Instruction 1', 'Predictor 1: Few-Shot Set 0'].\n",
      "2025/05/01 14:40:55 INFO dspy.teleprompt.mipro_optimizer_v2: Minibatch scores so far: [83.81, 82.86, 85.71, 83.81, 82.86, 82.86, 84.76, 83.81, 81.9, 89.52, 81.9, 74.29]\n",
      "2025/05/01 14:40:55 INFO dspy.teleprompt.mipro_optimizer_v2: Full eval scores so far: [85.0, 80.42, 86.67]\n",
      "2025/05/01 14:40:55 INFO dspy.teleprompt.mipro_optimizer_v2: Best full score so far: 86.67\n",
      "2025/05/01 14:40:55 INFO dspy.teleprompt.mipro_optimizer_v2: ==========================================\n",
      "\n",
      "\n",
      "2025/05/01 14:40:55 INFO dspy.teleprompt.mipro_optimizer_v2: == Trial 16 / 31 - Minibatch ==\n"
     ]
    },
    {
     "name": "stdout",
     "output_type": "stream",
     "text": [
      "\n",
      "Average Metric: 29.00 / 35 (82.9%): 100%|██████████| 35/35 [01:20<00:00,  2.30s/it]"
     ]
    },
    {
     "name": "stderr",
     "output_type": "stream",
     "text": [
      "2025/05/01 14:42:16 INFO dspy.evaluate.evaluate: Average Metric: 29.0 / 35 (82.9%)\n",
      "2025/05/01 14:42:16 INFO dspy.teleprompt.mipro_optimizer_v2: Score: 82.86 on minibatch of size 35 with parameters ['Predictor 0: Instruction 3', 'Predictor 0: Few-Shot Set 6', 'Predictor 1: Instruction 4', 'Predictor 1: Few-Shot Set 0'].\n",
      "2025/05/01 14:42:16 INFO dspy.teleprompt.mipro_optimizer_v2: Minibatch scores so far: [83.81, 82.86, 85.71, 83.81, 82.86, 82.86, 84.76, 83.81, 81.9, 89.52, 81.9, 74.29, 82.86]\n",
      "2025/05/01 14:42:16 INFO dspy.teleprompt.mipro_optimizer_v2: Full eval scores so far: [85.0, 80.42, 86.67]\n",
      "2025/05/01 14:42:16 INFO dspy.teleprompt.mipro_optimizer_v2: Best full score so far: 86.67\n",
      "2025/05/01 14:42:16 INFO dspy.teleprompt.mipro_optimizer_v2: ==========================================\n",
      "\n",
      "\n",
      "2025/05/01 14:42:16 INFO dspy.teleprompt.mipro_optimizer_v2: == Trial 17 / 31 - Minibatch ==\n"
     ]
    },
    {
     "name": "stdout",
     "output_type": "stream",
     "text": [
      "\n",
      "Average Metric: 27.67 / 35 (79.0%): 100%|██████████| 35/35 [01:56<00:00,  3.32s/it]"
     ]
    },
    {
     "name": "stderr",
     "output_type": "stream",
     "text": [
      "2025/05/01 14:44:12 INFO dspy.evaluate.evaluate: Average Metric: 27.666666666666668 / 35 (79.0%)\n",
      "2025/05/01 14:44:12 INFO dspy.teleprompt.mipro_optimizer_v2: Score: 79.05 on minibatch of size 35 with parameters ['Predictor 0: Instruction 1', 'Predictor 0: Few-Shot Set 6', 'Predictor 1: Instruction 0', 'Predictor 1: Few-Shot Set 8'].\n",
      "2025/05/01 14:44:12 INFO dspy.teleprompt.mipro_optimizer_v2: Minibatch scores so far: [83.81, 82.86, 85.71, 83.81, 82.86, 82.86, 84.76, 83.81, 81.9, 89.52, 81.9, 74.29, 82.86, 79.05]\n",
      "2025/05/01 14:44:12 INFO dspy.teleprompt.mipro_optimizer_v2: Full eval scores so far: [85.0, 80.42, 86.67]\n",
      "2025/05/01 14:44:12 INFO dspy.teleprompt.mipro_optimizer_v2: Best full score so far: 86.67\n",
      "2025/05/01 14:44:12 INFO dspy.teleprompt.mipro_optimizer_v2: ==========================================\n",
      "\n",
      "\n",
      "2025/05/01 14:44:12 INFO dspy.teleprompt.mipro_optimizer_v2: == Trial 18 / 31 - Minibatch ==\n"
     ]
    },
    {
     "name": "stdout",
     "output_type": "stream",
     "text": [
      "\n",
      "Average Metric: 30.00 / 35 (85.7%): 100%|██████████| 35/35 [00:07<00:00,  4.89it/s]"
     ]
    },
    {
     "name": "stderr",
     "output_type": "stream",
     "text": [
      "2025/05/01 14:44:20 INFO dspy.evaluate.evaluate: Average Metric: 30.0 / 35 (85.7%)\n",
      "2025/05/01 14:44:20 INFO dspy.teleprompt.mipro_optimizer_v2: Score: 85.71 on minibatch of size 35 with parameters ['Predictor 0: Instruction 6', 'Predictor 0: Few-Shot Set 0', 'Predictor 1: Instruction 0', 'Predictor 1: Few-Shot Set 7'].\n",
      "2025/05/01 14:44:20 INFO dspy.teleprompt.mipro_optimizer_v2: Minibatch scores so far: [83.81, 82.86, 85.71, 83.81, 82.86, 82.86, 84.76, 83.81, 81.9, 89.52, 81.9, 74.29, 82.86, 79.05, 85.71]\n",
      "2025/05/01 14:44:20 INFO dspy.teleprompt.mipro_optimizer_v2: Full eval scores so far: [85.0, 80.42, 86.67]\n",
      "2025/05/01 14:44:20 INFO dspy.teleprompt.mipro_optimizer_v2: Best full score so far: 86.67\n",
      "2025/05/01 14:44:20 INFO dspy.teleprompt.mipro_optimizer_v2: ==========================================\n",
      "\n",
      "\n",
      "2025/05/01 14:44:20 INFO dspy.teleprompt.mipro_optimizer_v2: ===== Trial 19 / 31 - Full Evaluation =====\n",
      "2025/05/01 14:44:20 INFO dspy.teleprompt.mipro_optimizer_v2: Doing full eval on next top averaging program (Avg Score: 85.71) from minibatch trials...\n"
     ]
    },
    {
     "name": "stdout",
     "output_type": "stream",
     "text": [
      "\n",
      "Average Metric: 69.00 / 80 (86.2%): 100%|██████████| 80/80 [00:10<00:00,  7.59it/s]"
     ]
    },
    {
     "name": "stderr",
     "output_type": "stream",
     "text": [
      "2025/05/01 14:44:31 INFO dspy.evaluate.evaluate: Average Metric: 69.0 / 80 (86.2%)\n",
      "2025/05/01 14:44:31 INFO dspy.teleprompt.mipro_optimizer_v2: Full eval scores so far: [85.0, 80.42, 86.67, 86.25]\n",
      "2025/05/01 14:44:31 INFO dspy.teleprompt.mipro_optimizer_v2: Best full score so far: 86.67\n",
      "2025/05/01 14:44:31 INFO dspy.teleprompt.mipro_optimizer_v2: =======================\n",
      "2025/05/01 14:44:31 INFO dspy.teleprompt.mipro_optimizer_v2: \n",
      "\n",
      "2025/05/01 14:44:31 INFO dspy.teleprompt.mipro_optimizer_v2: == Trial 20 / 31 - Minibatch ==\n"
     ]
    },
    {
     "name": "stdout",
     "output_type": "stream",
     "text": [
      "\n",
      "Average Metric: 28.00 / 35 (80.0%): 100%|██████████| 35/35 [01:59<00:00,  3.40s/it]"
     ]
    },
    {
     "name": "stderr",
     "output_type": "stream",
     "text": [
      "2025/05/01 14:46:31 INFO dspy.evaluate.evaluate: Average Metric: 28.0 / 35 (80.0%)\n",
      "2025/05/01 14:46:31 INFO dspy.teleprompt.mipro_optimizer_v2: Score: 80.0 on minibatch of size 35 with parameters ['Predictor 0: Instruction 6', 'Predictor 0: Few-Shot Set 4', 'Predictor 1: Instruction 5', 'Predictor 1: Few-Shot Set 8'].\n",
      "2025/05/01 14:46:31 INFO dspy.teleprompt.mipro_optimizer_v2: Minibatch scores so far: [83.81, 82.86, 85.71, 83.81, 82.86, 82.86, 84.76, 83.81, 81.9, 89.52, 81.9, 74.29, 82.86, 79.05, 85.71, 80.0]\n",
      "2025/05/01 14:46:31 INFO dspy.teleprompt.mipro_optimizer_v2: Full eval scores so far: [85.0, 80.42, 86.67, 86.25]\n",
      "2025/05/01 14:46:31 INFO dspy.teleprompt.mipro_optimizer_v2: Best full score so far: 86.67\n",
      "2025/05/01 14:46:31 INFO dspy.teleprompt.mipro_optimizer_v2: ==========================================\n",
      "\n",
      "\n",
      "2025/05/01 14:46:31 INFO dspy.teleprompt.mipro_optimizer_v2: == Trial 21 / 31 - Minibatch ==\n"
     ]
    },
    {
     "name": "stdout",
     "output_type": "stream",
     "text": [
      "\n",
      "Average Metric: 29.67 / 35 (84.8%): 100%|██████████| 35/35 [01:29<00:00,  2.56s/it]"
     ]
    },
    {
     "name": "stderr",
     "output_type": "stream",
     "text": [
      "2025/05/01 14:48:00 INFO dspy.evaluate.evaluate: Average Metric: 29.666666666666668 / 35 (84.8%)\n",
      "2025/05/01 14:48:00 INFO dspy.teleprompt.mipro_optimizer_v2: Score: 84.76 on minibatch of size 35 with parameters ['Predictor 0: Instruction 2', 'Predictor 0: Few-Shot Set 6', 'Predictor 1: Instruction 2', 'Predictor 1: Few-Shot Set 5'].\n",
      "2025/05/01 14:48:00 INFO dspy.teleprompt.mipro_optimizer_v2: Minibatch scores so far: [83.81, 82.86, 85.71, 83.81, 82.86, 82.86, 84.76, 83.81, 81.9, 89.52, 81.9, 74.29, 82.86, 79.05, 85.71, 80.0, 84.76]\n",
      "2025/05/01 14:48:00 INFO dspy.teleprompt.mipro_optimizer_v2: Full eval scores so far: [85.0, 80.42, 86.67, 86.25]\n",
      "2025/05/01 14:48:00 INFO dspy.teleprompt.mipro_optimizer_v2: Best full score so far: 86.67\n",
      "2025/05/01 14:48:00 INFO dspy.teleprompt.mipro_optimizer_v2: ==========================================\n",
      "\n",
      "\n",
      "2025/05/01 14:48:00 INFO dspy.teleprompt.mipro_optimizer_v2: == Trial 22 / 31 - Minibatch ==\n"
     ]
    },
    {
     "name": "stdout",
     "output_type": "stream",
     "text": [
      "\n",
      "Average Metric: 28.33 / 35 (81.0%): 100%|██████████| 35/35 [01:56<00:00,  3.34s/it]"
     ]
    },
    {
     "name": "stderr",
     "output_type": "stream",
     "text": [
      "2025/05/01 14:49:57 INFO dspy.evaluate.evaluate: Average Metric: 28.333333333333332 / 35 (81.0%)\n",
      "2025/05/01 14:49:57 INFO dspy.teleprompt.mipro_optimizer_v2: Score: 80.95 on minibatch of size 35 with parameters ['Predictor 0: Instruction 6', 'Predictor 0: Few-Shot Set 6', 'Predictor 1: Instruction 0', 'Predictor 1: Few-Shot Set 0'].\n",
      "2025/05/01 14:49:57 INFO dspy.teleprompt.mipro_optimizer_v2: Minibatch scores so far: [83.81, 82.86, 85.71, 83.81, 82.86, 82.86, 84.76, 83.81, 81.9, 89.52, 81.9, 74.29, 82.86, 79.05, 85.71, 80.0, 84.76, 80.95]\n",
      "2025/05/01 14:49:57 INFO dspy.teleprompt.mipro_optimizer_v2: Full eval scores so far: [85.0, 80.42, 86.67, 86.25]\n",
      "2025/05/01 14:49:57 INFO dspy.teleprompt.mipro_optimizer_v2: Best full score so far: 86.67\n",
      "2025/05/01 14:49:57 INFO dspy.teleprompt.mipro_optimizer_v2: ==========================================\n",
      "\n",
      "\n",
      "2025/05/01 14:49:57 INFO dspy.teleprompt.mipro_optimizer_v2: == Trial 23 / 31 - Minibatch ==\n"
     ]
    },
    {
     "name": "stdout",
     "output_type": "stream",
     "text": [
      "\n",
      "Average Metric: 30.33 / 35 (86.7%): 100%|██████████| 35/35 [00:08<00:00,  4.06it/s]"
     ]
    },
    {
     "name": "stderr",
     "output_type": "stream",
     "text": [
      "2025/05/01 14:50:07 INFO dspy.evaluate.evaluate: Average Metric: 30.333333333333332 / 35 (86.7%)\n",
      "2025/05/01 14:50:07 INFO dspy.teleprompt.mipro_optimizer_v2: Score: 86.67 on minibatch of size 35 with parameters ['Predictor 0: Instruction 6', 'Predictor 0: Few-Shot Set 0', 'Predictor 1: Instruction 8', 'Predictor 1: Few-Shot Set 0'].\n",
      "2025/05/01 14:50:07 INFO dspy.teleprompt.mipro_optimizer_v2: Minibatch scores so far: [83.81, 82.86, 85.71, 83.81, 82.86, 82.86, 84.76, 83.81, 81.9, 89.52, 81.9, 74.29, 82.86, 79.05, 85.71, 80.0, 84.76, 80.95, 86.67]\n",
      "2025/05/01 14:50:07 INFO dspy.teleprompt.mipro_optimizer_v2: Full eval scores so far: [85.0, 80.42, 86.67, 86.25]\n",
      "2025/05/01 14:50:07 INFO dspy.teleprompt.mipro_optimizer_v2: Best full score so far: 86.67\n",
      "2025/05/01 14:50:07 INFO dspy.teleprompt.mipro_optimizer_v2: ==========================================\n",
      "\n",
      "\n",
      "2025/05/01 14:50:07 INFO dspy.teleprompt.mipro_optimizer_v2: == Trial 24 / 31 - Minibatch ==\n"
     ]
    },
    {
     "name": "stdout",
     "output_type": "stream",
     "text": [
      "\n",
      "Average Metric: 31.00 / 35 (88.6%): 100%|██████████| 35/35 [00:05<00:00,  6.34it/s]"
     ]
    },
    {
     "name": "stderr",
     "output_type": "stream",
     "text": [
      "2025/05/01 14:50:13 INFO dspy.evaluate.evaluate: Average Metric: 31.0 / 35 (88.6%)\n",
      "2025/05/01 14:50:13 INFO dspy.teleprompt.mipro_optimizer_v2: Score: 88.57 on minibatch of size 35 with parameters ['Predictor 0: Instruction 6', 'Predictor 0: Few-Shot Set 0', 'Predictor 1: Instruction 8', 'Predictor 1: Few-Shot Set 0'].\n",
      "2025/05/01 14:50:13 INFO dspy.teleprompt.mipro_optimizer_v2: Minibatch scores so far: [83.81, 82.86, 85.71, 83.81, 82.86, 82.86, 84.76, 83.81, 81.9, 89.52, 81.9, 74.29, 82.86, 79.05, 85.71, 80.0, 84.76, 80.95, 86.67, 88.57]\n",
      "2025/05/01 14:50:13 INFO dspy.teleprompt.mipro_optimizer_v2: Full eval scores so far: [85.0, 80.42, 86.67, 86.25]\n",
      "2025/05/01 14:50:13 INFO dspy.teleprompt.mipro_optimizer_v2: Best full score so far: 86.67\n",
      "2025/05/01 14:50:13 INFO dspy.teleprompt.mipro_optimizer_v2: ==========================================\n",
      "\n",
      "\n",
      "2025/05/01 14:50:13 INFO dspy.teleprompt.mipro_optimizer_v2: ===== Trial 25 / 31 - Full Evaluation =====\n",
      "2025/05/01 14:50:13 INFO dspy.teleprompt.mipro_optimizer_v2: Doing full eval on next top averaging program (Avg Score: 87.62) from minibatch trials...\n"
     ]
    },
    {
     "name": "stdout",
     "output_type": "stream",
     "text": [
      "\n",
      "Average Metric: 68.33 / 80 (85.4%): 100%|██████████| 80/80 [00:08<00:00,  9.69it/s]"
     ]
    },
    {
     "name": "stderr",
     "output_type": "stream",
     "text": [
      "2025/05/01 14:50:22 INFO dspy.evaluate.evaluate: Average Metric: 68.33333333333333 / 80 (85.4%)\n",
      "2025/05/01 14:50:22 INFO dspy.teleprompt.mipro_optimizer_v2: Full eval scores so far: [85.0, 80.42, 86.67, 86.25, 85.42]\n",
      "2025/05/01 14:50:22 INFO dspy.teleprompt.mipro_optimizer_v2: Best full score so far: 86.67\n",
      "2025/05/01 14:50:22 INFO dspy.teleprompt.mipro_optimizer_v2: =======================\n",
      "2025/05/01 14:50:22 INFO dspy.teleprompt.mipro_optimizer_v2: \n",
      "\n",
      "2025/05/01 14:50:22 INFO dspy.teleprompt.mipro_optimizer_v2: == Trial 26 / 31 - Minibatch ==\n"
     ]
    },
    {
     "name": "stdout",
     "output_type": "stream",
     "text": [
      "\n",
      "Average Metric: 28.67 / 35 (81.9%): 100%|██████████| 35/35 [02:19<00:00,  3.99s/it]"
     ]
    },
    {
     "name": "stderr",
     "output_type": "stream",
     "text": [
      "2025/05/01 14:52:42 INFO dspy.evaluate.evaluate: Average Metric: 28.666666666666664 / 35 (81.9%)\n",
      "2025/05/01 14:52:42 INFO dspy.teleprompt.mipro_optimizer_v2: Score: 81.9 on minibatch of size 35 with parameters ['Predictor 0: Instruction 5', 'Predictor 0: Few-Shot Set 0', 'Predictor 1: Instruction 5', 'Predictor 1: Few-Shot Set 4'].\n",
      "2025/05/01 14:52:42 INFO dspy.teleprompt.mipro_optimizer_v2: Minibatch scores so far: [83.81, 82.86, 85.71, 83.81, 82.86, 82.86, 84.76, 83.81, 81.9, 89.52, 81.9, 74.29, 82.86, 79.05, 85.71, 80.0, 84.76, 80.95, 86.67, 88.57, 81.9]\n",
      "2025/05/01 14:52:42 INFO dspy.teleprompt.mipro_optimizer_v2: Full eval scores so far: [85.0, 80.42, 86.67, 86.25, 85.42]\n",
      "2025/05/01 14:52:42 INFO dspy.teleprompt.mipro_optimizer_v2: Best full score so far: 86.67\n",
      "2025/05/01 14:52:42 INFO dspy.teleprompt.mipro_optimizer_v2: ==========================================\n",
      "\n",
      "\n",
      "2025/05/01 14:52:42 INFO dspy.teleprompt.mipro_optimizer_v2: == Trial 27 / 31 - Minibatch ==\n"
     ]
    },
    {
     "name": "stdout",
     "output_type": "stream",
     "text": [
      "\n",
      "Average Metric: 29.00 / 35 (82.9%): 100%|██████████| 35/35 [01:39<00:00,  2.83s/it]"
     ]
    },
    {
     "name": "stderr",
     "output_type": "stream",
     "text": [
      "2025/05/01 14:54:21 INFO dspy.evaluate.evaluate: Average Metric: 29.0 / 35 (82.9%)\n",
      "2025/05/01 14:54:21 INFO dspy.teleprompt.mipro_optimizer_v2: Score: 82.86 on minibatch of size 35 with parameters ['Predictor 0: Instruction 7', 'Predictor 0: Few-Shot Set 0', 'Predictor 1: Instruction 2', 'Predictor 1: Few-Shot Set 0'].\n",
      "2025/05/01 14:54:21 INFO dspy.teleprompt.mipro_optimizer_v2: Minibatch scores so far: [83.81, 82.86, 85.71, 83.81, 82.86, 82.86, 84.76, 83.81, 81.9, 89.52, 81.9, 74.29, 82.86, 79.05, 85.71, 80.0, 84.76, 80.95, 86.67, 88.57, 81.9, 82.86]\n",
      "2025/05/01 14:54:21 INFO dspy.teleprompt.mipro_optimizer_v2: Full eval scores so far: [85.0, 80.42, 86.67, 86.25, 85.42]\n",
      "2025/05/01 14:54:21 INFO dspy.teleprompt.mipro_optimizer_v2: Best full score so far: 86.67\n",
      "2025/05/01 14:54:21 INFO dspy.teleprompt.mipro_optimizer_v2: ==========================================\n",
      "\n",
      "\n",
      "2025/05/01 14:54:21 INFO dspy.teleprompt.mipro_optimizer_v2: == Trial 28 / 31 - Minibatch ==\n"
     ]
    },
    {
     "name": "stdout",
     "output_type": "stream",
     "text": [
      "\n",
      "Average Metric: 30.33 / 35 (86.7%): 100%|██████████| 35/35 [01:08<00:00,  1.95s/it]"
     ]
    },
    {
     "name": "stderr",
     "output_type": "stream",
     "text": [
      "2025/05/01 14:55:29 INFO dspy.evaluate.evaluate: Average Metric: 30.333333333333332 / 35 (86.7%)\n",
      "2025/05/01 14:55:29 INFO dspy.teleprompt.mipro_optimizer_v2: Score: 86.67 on minibatch of size 35 with parameters ['Predictor 0: Instruction 8', 'Predictor 0: Few-Shot Set 0', 'Predictor 1: Instruction 0', 'Predictor 1: Few-Shot Set 5'].\n",
      "2025/05/01 14:55:29 INFO dspy.teleprompt.mipro_optimizer_v2: Minibatch scores so far: [83.81, 82.86, 85.71, 83.81, 82.86, 82.86, 84.76, 83.81, 81.9, 89.52, 81.9, 74.29, 82.86, 79.05, 85.71, 80.0, 84.76, 80.95, 86.67, 88.57, 81.9, 82.86, 86.67]\n",
      "2025/05/01 14:55:29 INFO dspy.teleprompt.mipro_optimizer_v2: Full eval scores so far: [85.0, 80.42, 86.67, 86.25, 85.42]\n",
      "2025/05/01 14:55:29 INFO dspy.teleprompt.mipro_optimizer_v2: Best full score so far: 86.67\n",
      "2025/05/01 14:55:29 INFO dspy.teleprompt.mipro_optimizer_v2: ==========================================\n",
      "\n",
      "\n",
      "2025/05/01 14:55:29 INFO dspy.teleprompt.mipro_optimizer_v2: == Trial 29 / 31 - Minibatch ==\n"
     ]
    },
    {
     "name": "stdout",
     "output_type": "stream",
     "text": [
      "\n",
      "Average Metric: 25.33 / 35 (72.4%): 100%|██████████| 35/35 [01:58<00:00,  3.39s/it]"
     ]
    },
    {
     "name": "stderr",
     "output_type": "stream",
     "text": [
      "2025/05/01 14:57:28 INFO dspy.evaluate.evaluate: Average Metric: 25.333333333333332 / 35 (72.4%)\n",
      "2025/05/01 14:57:28 INFO dspy.teleprompt.mipro_optimizer_v2: Score: 72.38 on minibatch of size 35 with parameters ['Predictor 0: Instruction 2', 'Predictor 0: Few-Shot Set 2', 'Predictor 1: Instruction 0', 'Predictor 1: Few-Shot Set 4'].\n",
      "2025/05/01 14:57:28 INFO dspy.teleprompt.mipro_optimizer_v2: Minibatch scores so far: [83.81, 82.86, 85.71, 83.81, 82.86, 82.86, 84.76, 83.81, 81.9, 89.52, 81.9, 74.29, 82.86, 79.05, 85.71, 80.0, 84.76, 80.95, 86.67, 88.57, 81.9, 82.86, 86.67, 72.38]\n",
      "2025/05/01 14:57:28 INFO dspy.teleprompt.mipro_optimizer_v2: Full eval scores so far: [85.0, 80.42, 86.67, 86.25, 85.42]\n",
      "2025/05/01 14:57:28 INFO dspy.teleprompt.mipro_optimizer_v2: Best full score so far: 86.67\n",
      "2025/05/01 14:57:28 INFO dspy.teleprompt.mipro_optimizer_v2: ==========================================\n",
      "\n",
      "\n",
      "2025/05/01 14:57:28 INFO dspy.teleprompt.mipro_optimizer_v2: == Trial 30 / 31 - Minibatch ==\n"
     ]
    },
    {
     "name": "stdout",
     "output_type": "stream",
     "text": [
      "\n",
      "Average Metric: 28.67 / 35 (81.9%): 100%|██████████| 35/35 [01:46<00:00,  3.06s/it]"
     ]
    },
    {
     "name": "stderr",
     "output_type": "stream",
     "text": [
      "2025/05/01 14:59:15 INFO dspy.evaluate.evaluate: Average Metric: 28.666666666666668 / 35 (81.9%)\n",
      "2025/05/01 14:59:15 INFO dspy.teleprompt.mipro_optimizer_v2: Score: 81.9 on minibatch of size 35 with parameters ['Predictor 0: Instruction 4', 'Predictor 0: Few-Shot Set 4', 'Predictor 1: Instruction 8', 'Predictor 1: Few-Shot Set 4'].\n",
      "2025/05/01 14:59:15 INFO dspy.teleprompt.mipro_optimizer_v2: Minibatch scores so far: [83.81, 82.86, 85.71, 83.81, 82.86, 82.86, 84.76, 83.81, 81.9, 89.52, 81.9, 74.29, 82.86, 79.05, 85.71, 80.0, 84.76, 80.95, 86.67, 88.57, 81.9, 82.86, 86.67, 72.38, 81.9]\n",
      "2025/05/01 14:59:15 INFO dspy.teleprompt.mipro_optimizer_v2: Full eval scores so far: [85.0, 80.42, 86.67, 86.25, 85.42]\n",
      "2025/05/01 14:59:15 INFO dspy.teleprompt.mipro_optimizer_v2: Best full score so far: 86.67\n",
      "2025/05/01 14:59:15 INFO dspy.teleprompt.mipro_optimizer_v2: ==========================================\n",
      "\n",
      "\n",
      "2025/05/01 14:59:15 INFO dspy.teleprompt.mipro_optimizer_v2: ===== Trial 31 / 31 - Full Evaluation =====\n",
      "2025/05/01 14:59:15 INFO dspy.teleprompt.mipro_optimizer_v2: Doing full eval on next top averaging program (Avg Score: 86.67) from minibatch trials...\n"
     ]
    },
    {
     "name": "stdout",
     "output_type": "stream",
     "text": [
      "\n",
      "Average Metric: 66.33 / 80 (82.9%): 100%|██████████| 80/80 [01:46<00:00,  1.33s/it]"
     ]
    },
    {
     "name": "stderr",
     "output_type": "stream",
     "text": [
      "2025/05/01 15:01:02 INFO dspy.evaluate.evaluate: Average Metric: 66.33333333333333 / 80 (82.9%)\n",
      "2025/05/01 15:01:02 INFO dspy.teleprompt.mipro_optimizer_v2: Full eval scores so far: [85.0, 80.42, 86.67, 86.25, 85.42, 82.92]\n",
      "2025/05/01 15:01:02 INFO dspy.teleprompt.mipro_optimizer_v2: Best full score so far: 86.67\n",
      "2025/05/01 15:01:02 INFO dspy.teleprompt.mipro_optimizer_v2: =======================\n",
      "2025/05/01 15:01:02 INFO dspy.teleprompt.mipro_optimizer_v2: \n",
      "\n",
      "2025/05/01 15:01:02 INFO dspy.teleprompt.mipro_optimizer_v2: Returning best identified program with score 86.67!\n"
     ]
    },
    {
     "name": "stdout",
     "output_type": "stream",
     "text": [
      "\n"
     ]
    }
   ],
   "source": [
    "kwargs = dict(teacher_settings=dict(lm=gpt41), prompt_model=gpt41, max_errors=999)\n",
    "\n",
    "tp = dspy.MIPROv2(metric=top5_recall, auto=\"medium\", num_threads=16, **kwargs)\n",
    "optimized_react = tp.compile(react, trainset=trainset, max_bootstrapped_demos=3, max_labeled_demos=0)"
   ]
  },
  {
   "cell_type": "code",
   "execution_count": 13,
   "id": "74911efc",
   "metadata": {},
   "outputs": [
    {
     "name": "stdout",
     "output_type": "stream",
     "text": [
      "Average Metric: 87.67 / 100 (87.7%): 100%|██████████| 100/100 [04:15<00:00,  2.55s/it]"
     ]
    },
    {
     "name": "stderr",
     "output_type": "stream",
     "text": [
      "2025/05/01 15:07:07 INFO dspy.evaluate.evaluate: Average Metric: 87.66666666666667 / 100 (87.7%)\n"
     ]
    },
    {
     "name": "stdout",
     "output_type": "stream",
     "text": [
      "\n"
     ]
    },
    {
     "data": {
      "text/html": [
       "<div>\n",
       "<style scoped>\n",
       "    .dataframe tbody tr th:only-of-type {\n",
       "        vertical-align: middle;\n",
       "    }\n",
       "\n",
       "    .dataframe tbody tr th {\n",
       "        vertical-align: top;\n",
       "    }\n",
       "\n",
       "    .dataframe thead th {\n",
       "        text-align: right;\n",
       "    }\n",
       "</style>\n",
       "<table border=\"1\" class=\"dataframe\">\n",
       "  <thead>\n",
       "    <tr style=\"text-align: right;\">\n",
       "      <th></th>\n",
       "      <th>claim</th>\n",
       "      <th>example_titles</th>\n",
       "      <th>trajectory</th>\n",
       "      <th>reasoning</th>\n",
       "      <th>pred_titles</th>\n",
       "      <th>top5_recall</th>\n",
       "    </tr>\n",
       "  </thead>\n",
       "  <tbody>\n",
       "    <tr>\n",
       "      <th>0</th>\n",
       "      <td>The Church of England's movement that inspired the Trinity Episcop...</td>\n",
       "      <td>[Trinity Episcopal Church (Houghton, Michigan), Oxford Movement, S...</td>\n",
       "      <td>{'thought_0': 'The claim involves several specific elements: a Chu...</td>\n",
       "      <td>The claim is that the Church of England's movement inspiring the T...</td>\n",
       "      <td>[Trinity Episcopal Church (Houghton, Michigan), Oxford Movement, S...</td>\n",
       "      <td>✔️ [1.000]</td>\n",
       "    </tr>\n",
       "    <tr>\n",
       "      <th>1</th>\n",
       "      <td>Red, White &amp; Crüe and this athlete both fight. The french fighter ...</td>\n",
       "      <td>[Mike Tyson, Bobby Stewart, Red, White &amp;amp; Crüe]</td>\n",
       "      <td>{'thought_0': 'The claim mentions \"Red, White &amp; Crüe\" and a French...</td>\n",
       "      <td>The claim asserts that \"Red, White &amp; Crüe and this athlete both fi...</td>\n",
       "      <td>[Red, White &amp; Crüe, Bobby Stewart, Jean Baptiste Mendy, Mathieu Ba...</td>\n",
       "      <td>✔️ [0.333]</td>\n",
       "    </tr>\n",
       "    <tr>\n",
       "      <th>2</th>\n",
       "      <td>The writer/director/actor from Glen or Glenda and Fernand Rivers s...</td>\n",
       "      <td>[Ed Wood, Glen or Glenda, Fernand Rivers]</td>\n",
       "      <td>{'thought_0': 'To verify the claim, I need to identify the writer/...</td>\n",
       "      <td>The claim is that the writer/director/actor from \"Glen or Glenda\" ...</td>\n",
       "      <td>[Ed Wood, Fernand Rivers, Glen or Glenda]</td>\n",
       "      <td>✔️ [1.000]</td>\n",
       "    </tr>\n",
       "    <tr>\n",
       "      <th>3</th>\n",
       "      <td>The film by Sandi Sissel was released before The End of Suburbia.</td>\n",
       "      <td>[The End of Suburbia, Sandi Sissel, Chicken Ranch (film)]</td>\n",
       "      <td>{'thought_0': 'To verify the claim, I need to find out the release...</td>\n",
       "      <td>The claim states that the film by Sandi Sissel was released before...</td>\n",
       "      <td>[Chicken Ranch (film), The End of Suburbia]</td>\n",
       "      <td>✔️ [0.667]</td>\n",
       "    </tr>\n",
       "    <tr>\n",
       "      <th>4</th>\n",
       "      <td>The actor who played captain hook in the live production with Tayl...</td>\n",
       "      <td>[Christopher Walken, Peter Pan Live!, Taylor Louderman]</td>\n",
       "      <td>{'thought_0': 'To verify the claim, I need to identify the actor w...</td>\n",
       "      <td>The claim states that the actor who played Captain Hook in the liv...</td>\n",
       "      <td>[Taylor Louderman, Peter Pan Live!, Christopher Walken, The Deer H...</td>\n",
       "      <td>✔️ [1.000]</td>\n",
       "    </tr>\n",
       "  </tbody>\n",
       "</table>\n",
       "</div>"
      ],
      "text/plain": [
       "                                                                   claim  \\\n",
       "0  The Church of England's movement that inspired the Trinity Episcop...   \n",
       "1  Red, White & Crüe and this athlete both fight. The french fighter ...   \n",
       "2  The writer/director/actor from Glen or Glenda and Fernand Rivers s...   \n",
       "3      The film by Sandi Sissel was released before The End of Suburbia.   \n",
       "4  The actor who played captain hook in the live production with Tayl...   \n",
       "\n",
       "                                                          example_titles  \\\n",
       "0  [Trinity Episcopal Church (Houghton, Michigan), Oxford Movement, S...   \n",
       "1                     [Mike Tyson, Bobby Stewart, Red, White &amp; Crüe]   \n",
       "2                              [Ed Wood, Glen or Glenda, Fernand Rivers]   \n",
       "3              [The End of Suburbia, Sandi Sissel, Chicken Ranch (film)]   \n",
       "4                [Christopher Walken, Peter Pan Live!, Taylor Louderman]   \n",
       "\n",
       "                                                              trajectory  \\\n",
       "0  {'thought_0': 'The claim involves several specific elements: a Chu...   \n",
       "1  {'thought_0': 'The claim mentions \"Red, White & Crüe\" and a French...   \n",
       "2  {'thought_0': 'To verify the claim, I need to identify the writer/...   \n",
       "3  {'thought_0': 'To verify the claim, I need to find out the release...   \n",
       "4  {'thought_0': 'To verify the claim, I need to identify the actor w...   \n",
       "\n",
       "                                                               reasoning  \\\n",
       "0  The claim is that the Church of England's movement inspiring the T...   \n",
       "1  The claim asserts that \"Red, White & Crüe and this athlete both fi...   \n",
       "2  The claim is that the writer/director/actor from \"Glen or Glenda\" ...   \n",
       "3  The claim states that the film by Sandi Sissel was released before...   \n",
       "4  The claim states that the actor who played Captain Hook in the liv...   \n",
       "\n",
       "                                                             pred_titles  \\\n",
       "0  [Trinity Episcopal Church (Houghton, Michigan), Oxford Movement, S...   \n",
       "1  [Red, White & Crüe, Bobby Stewart, Jean Baptiste Mendy, Mathieu Ba...   \n",
       "2                              [Ed Wood, Fernand Rivers, Glen or Glenda]   \n",
       "3                            [Chicken Ranch (film), The End of Suburbia]   \n",
       "4  [Taylor Louderman, Peter Pan Live!, Christopher Walken, The Deer H...   \n",
       "\n",
       "  top5_recall  \n",
       "0  ✔️ [1.000]  \n",
       "1  ✔️ [0.333]  \n",
       "2  ✔️ [1.000]  \n",
       "3  ✔️ [0.667]  \n",
       "4  ✔️ [1.000]  "
      ]
     },
     "metadata": {},
     "output_type": "display_data"
    },
    {
     "data": {
      "text/html": [
       "\n",
       "            <div style='\n",
       "                text-align: center;\n",
       "                font-size: 16px;\n",
       "                font-weight: bold;\n",
       "                color: #555;\n",
       "                margin: 10px 0;'>\n",
       "                ... 95 more rows not displayed ...\n",
       "            </div>\n",
       "            "
      ],
      "text/plain": [
       "<IPython.core.display.HTML object>"
      ]
     },
     "metadata": {},
     "output_type": "display_data"
    },
    {
     "data": {
      "text/plain": [
       "87.67"
      ]
     },
     "execution_count": 13,
     "metadata": {},
     "output_type": "execute_result"
    }
   ],
   "source": [
    "evaluate(optimized_react)"
   ]
  },
  {
   "cell_type": "code",
   "execution_count": 14,
   "id": "627bf125",
   "metadata": {},
   "outputs": [
    {
     "data": {
      "text/plain": [
       "['Up Against It', 'Joe Orton', 'Bernard-Marie Koltès']"
      ]
     },
     "execution_count": 14,
     "metadata": {},
     "output_type": "execute_result"
    }
   ],
   "source": [
    "optimized_react(claim=\"The author of the 1960s unproduced script written for The Beatles, Up Against It, and Bernard-Marie Koltès are both playwrights.\").titles"
   ]
  },
  {
   "cell_type": "code",
   "execution_count": 15,
   "id": "1219075a",
   "metadata": {},
   "outputs": [
    {
     "name": "stdout",
     "output_type": "stream",
     "text": [
      "\n",
      "\n",
      "\n",
      "\n",
      "\u001b[34m[2025-05-01T15:07:35.855733]\u001b[0m\n",
      "\n",
      "\u001b[31mSystem message:\u001b[0m\n",
      "\n",
      "Your input fields are:\n",
      "1. `claim` (str)\n",
      "2. `trajectory` (str)\n",
      "Your output fields are:\n",
      "1. `next_thought` (str)\n",
      "2. `next_tool_name` (Literal['search_wikipedia', 'lookup_wikipedia', 'finish'])\n",
      "3. `next_tool_args` (dict[str, Any])\n",
      "All interactions will be structured in the following way, with the appropriate values filled in.\n",
      "\n",
      "[[ ## claim ## ]]\n",
      "{claim}\n",
      "\n",
      "[[ ## trajectory ## ]]\n",
      "{trajectory}\n",
      "\n",
      "[[ ## next_thought ## ]]\n",
      "{next_thought}\n",
      "\n",
      "[[ ## next_tool_name ## ]]\n",
      "{next_tool_name}        # note: the value you produce must exactly match (no extra characters) one of: search_wikipedia; lookup_wikipedia; finish\n",
      "\n",
      "[[ ## next_tool_args ## ]]\n",
      "{next_tool_args}        # note: the value you produce must adhere to the JSON schema: {\"type\": \"object\", \"additionalProperties\": true}\n",
      "\n",
      "[[ ## completed ## ]]\n",
      "In adhering to this structure, your objective is: \n",
      "        Given a claim and the current trajectory (which includes your previous thoughts, tool selections, arguments, and observations), determine the most effective next step to gather all Wikipedia article titles relevant to verifying or refuting the claim. \n",
      "        \n",
      "        For each step:\n",
      "        - Clearly explain your reasoning and plan in `next_thought`, considering what information you have already gathered, what is still missing, and how you intend to proceed.\n",
      "        - Choose the most appropriate tool for your next action by setting `next_tool_name` to one of: `search_wikipedia` (to search for relevant articles), `lookup_wikipedia` (to retrieve the content of a specific article), or `finish` (if all necessary information has been collected).\n",
      "        - Provide the required arguments for the chosen tool in `next_tool_args`, formatted as a JSON object.\n",
      "        \n",
      "        Be thorough in your reasoning, especially in disambiguating entities, resolving pronouns, and planning multi-hop searches when needed. Continue this process iteratively, using the trajectory to inform your decisions, until you are ready to finish and extract all relevant Wikipedia titles. \n",
      "        \n",
      "        Your output for each turn should include `next_thought`, `next_tool_name`, and `next_tool_args`.\n",
      "\n",
      "\n",
      "\u001b[31mUser message:\u001b[0m\n",
      "\n",
      "[[ ## claim ## ]]\n",
      "The author of the 1960s unproduced script written for The Beatles, Up Against It, and Bernard-Marie Koltès are both playwrights.\n",
      "\n",
      "[[ ## trajectory ## ]]\n",
      "[[ ## thought_0 ## ]]\n",
      "To verify the claim, I need to confirm two main points: (1) that \"Up Against It\" is an unproduced script written in the 1960s for The Beatles, and (2) that the authors of \"Up Against It\" and Bernard-Marie Koltès are both playwrights. First, I will search for information about \"Up Against It\" to confirm its connection to The Beatles and its authorship. Then I will check the authors and their professions, including Bernard-Marie Koltès, to determine if they are both playwrights.\n",
      "\n",
      "[[ ## tool_name_0 ## ]]\n",
      "search_wikipedia\n",
      "\n",
      "[[ ## tool_args_0 ## ]]\n",
      "{\"query\": \"Up Against It Beatles script\"}\n",
      "\n",
      "[[ ## observation_0 ## ]]\n",
      "[1] «Up Against It | Up Against It is an unproduced script by Joe Orton, written in 1967 for The Beatles at the height of their fame.»\n",
      "[2] «Up Against It! (Todd Rundgren album) | Up Against It! is a 1997 album by Todd Rundgren, essentially consisting of Rundgren's song demos for the Off Broadway show that were Written and Recorded by Todd from 1986-88. The project was inspired by the never-produced Up Against It which was a play originally written by Joe Orton for The Beatles.»\n",
      "[3] «Help! (film) | Help! is a 1965 British musical comedy-adventure film directed by Richard Lester, starring the Beatles–John Lennon, Paul McCartney, George Harrison and Ringo Starr—and featuring Leo McKern, Eleanor Bron, Victor Spinetti, John Bluthal, Roy Kinnear and Patrick Cargill. The second film starring The Beatles following Lester's \"A Hard Day's Night\", \"Help!\" sees the group come up against an evil cult. The soundtrack was released as an album, also called \"Help! \".»\n",
      "[4] «All for the Beatles | \"All for the Beatles\" is a song written and released in 1964 by Harry Nilsson and John Marascalco. It was released as a single with the alternative title \"Stand Up and Holler\" under Nilsson's pseudonym Foto-Fi Four and was packaged with a synchronized standard 8 mm film of The Beatles first arriving in the United States in 1964.»\n",
      "[5] «(I Got No Kick Against) Modern Jazz | (I Got No Kick Against) Modern Jazz is a 1995 tribute album by various jazz artists and bands from the GRP Records label. It consists of jazz cover versions of songs originally by The Beatles. The album's title comes from the lyrics of the Beatles's cover of the Chuck Berry song, \"Rock and Roll Music\", which was originally released on the studio album \"Beatles for Sale\".»\n",
      "[6] «Other retrieved pages have titles: `Up Against It (album)`, `Across the Universe (film)`, `Beatallica`, `Breakin' It Up on The Beatles Tour!`, `Let It Be (song)`, `Give Peace a Chance`, `Something (Beatles song)`, `Let It Be`, `Up Against It (1912 film)`, `Alun Owen`, `We Can Work It Out`, `The U.S. vs. John Lennon`, `McCartney (album)`, `One After 909`, `Let It Be (1970 film)`, `Yes It Is`, `It's All Too Much`, `The Long and Winding Road`, `Beatles (song)`, `All Together Now`, `Because (Beatles song)`, `Get Back`, `Beatles (novel)`, `Press to Play`, `Back in the U.S.S.R.`.»\n",
      "\n",
      "[[ ## thought_1 ## ]]\n",
      "I have confirmed that \"Up Against It\" is an unproduced script written in 1967 for The Beatles by Joe Orton. Next, I need to verify if Joe Orton is a playwright, and also check if Bernard-Marie Koltès is a playwright. I will look up Joe Orton first to confirm his profession.\n",
      "\n",
      "[[ ## tool_name_1 ## ]]\n",
      "lookup_wikipedia\n",
      "\n",
      "[[ ## tool_args_1 ## ]]\n",
      "{\"title\": \"Joe Orton\"}\n",
      "\n",
      "[[ ## observation_1 ## ]]\n",
      "John Kingsley \"Joe\" Orton (1 January 1933 – 9 August 1967) was an English playwright and author. His public career was short but prolific, lasting from 1964 until his death three years later. During this brief period he shocked, outraged, and amused audiences with his scandalous black comedies. The adjective \"Ortonesque\" is sometimes used to refer to work characterised by a similarly dark yet farcical cynicism.\n",
      "\n",
      "[[ ## thought_2 ## ]]\n",
      "I have confirmed Joe Orton is a playwright. Now, I need to confirm whether Bernard-Marie Koltès is a playwright as well to fully verify the claim. I will look up Bernard-Marie Koltès to check his profession.\n",
      "\n",
      "[[ ## tool_name_2 ## ]]\n",
      "lookup_wikipedia\n",
      "\n",
      "[[ ## tool_args_2 ## ]]\n",
      "{\"title\": \"Bernard-Marie Koltès\"}\n",
      "\n",
      "[[ ## observation_2 ## ]]\n",
      "Bernard-Marie Koltès (] ; 9 April 1948 – 15 April 1989) was a French playwright and theatre director best known for his plays \"La Nuit juste avant les Forêts\" (\"The Night Just Before the Forests\", 1976), \"Sallinger\" (1977) and \"Dans la Solitude des Champs de Coton\" (\"In the Solitude of Cotton Fields\", 1986).\n",
      "\n",
      "Respond with the corresponding output fields, starting with the field `[[ ## next_thought ## ]]`, then `[[ ## next_tool_name ## ]]` (must be formatted as a valid Python Literal['search_wikipedia', 'lookup_wikipedia', 'finish']), then `[[ ## next_tool_args ## ]]` (must be formatted as a valid Python dict[str, Any]), and then ending with the marker for `[[ ## completed ## ]]`.\n",
      "\n",
      "\n",
      "\u001b[31mResponse:\u001b[0m\n",
      "\n",
      "\u001b[32m[[ ## next_thought ## ]]\n",
      "I have confirmed that Joe Orton, the author of the unproduced 1960s script \"Up Against It\" for The Beatles, is a playwright, and that Bernard-Marie Koltès is also a playwright. Both parts of the claim are verified. Therefore, I have gathered sufficient information to conclude that the claim is true.\n",
      "\n",
      "[[ ## next_tool_name ## ]]\n",
      "finish\n",
      "\n",
      "[[ ## next_tool_args ## ]]\n",
      "{}\n",
      "\n",
      "[[ ## completed ## ]]\u001b[0m\n",
      "\n",
      "\n",
      "\n",
      "\n",
      "\n",
      "\u001b[34m[2025-05-01T15:07:35.861473]\u001b[0m\n",
      "\n",
      "\u001b[31mSystem message:\u001b[0m\n",
      "\n",
      "Your input fields are:\n",
      "1. `claim` (str)\n",
      "2. `trajectory` (str)\n",
      "Your output fields are:\n",
      "1. `reasoning` (str)\n",
      "2. `titles` (list[str])\n",
      "All interactions will be structured in the following way, with the appropriate values filled in.\n",
      "\n",
      "[[ ## claim ## ]]\n",
      "{claim}\n",
      "\n",
      "[[ ## trajectory ## ]]\n",
      "{trajectory}\n",
      "\n",
      "[[ ## reasoning ## ]]\n",
      "{reasoning}\n",
      "\n",
      "[[ ## titles ## ]]\n",
      "{titles}        # note: the value you produce must adhere to the JSON schema: {\"type\": \"array\", \"items\": {\"type\": \"string\"}}\n",
      "\n",
      "[[ ## completed ## ]]\n",
      "In adhering to this structure, your objective is: \n",
      "        Find all Wikipedia titles relevant to verifying (or refuting) the claim.\n",
      "\n",
      "\n",
      "\u001b[31mUser message:\u001b[0m\n",
      "\n",
      "[[ ## claim ## ]]\n",
      "The author of the 1960s unproduced script written for The Beatles, Up Against It, and Bernard-Marie Koltès are both playwrights.\n",
      "\n",
      "[[ ## trajectory ## ]]\n",
      "[[ ## thought_0 ## ]]\n",
      "To verify the claim, I need to confirm two main points: (1) that \"Up Against It\" is an unproduced script written in the 1960s for The Beatles, and (2) that the authors of \"Up Against It\" and Bernard-Marie Koltès are both playwrights. First, I will search for information about \"Up Against It\" to confirm its connection to The Beatles and its authorship. Then I will check the authors and their professions, including Bernard-Marie Koltès, to determine if they are both playwrights.\n",
      "\n",
      "[[ ## tool_name_0 ## ]]\n",
      "search_wikipedia\n",
      "\n",
      "[[ ## tool_args_0 ## ]]\n",
      "{\"query\": \"Up Against It Beatles script\"}\n",
      "\n",
      "[[ ## observation_0 ## ]]\n",
      "[1] «Up Against It | Up Against It is an unproduced script by Joe Orton, written in 1967 for The Beatles at the height of their fame.»\n",
      "[2] «Up Against It! (Todd Rundgren album) | Up Against It! is a 1997 album by Todd Rundgren, essentially consisting of Rundgren's song demos for the Off Broadway show that were Written and Recorded by Todd from 1986-88. The project was inspired by the never-produced Up Against It which was a play originally written by Joe Orton for The Beatles.»\n",
      "[3] «Help! (film) | Help! is a 1965 British musical comedy-adventure film directed by Richard Lester, starring the Beatles–John Lennon, Paul McCartney, George Harrison and Ringo Starr—and featuring Leo McKern, Eleanor Bron, Victor Spinetti, John Bluthal, Roy Kinnear and Patrick Cargill. The second film starring The Beatles following Lester's \"A Hard Day's Night\", \"Help!\" sees the group come up against an evil cult. The soundtrack was released as an album, also called \"Help! \".»\n",
      "[4] «All for the Beatles | \"All for the Beatles\" is a song written and released in 1964 by Harry Nilsson and John Marascalco. It was released as a single with the alternative title \"Stand Up and Holler\" under Nilsson's pseudonym Foto-Fi Four and was packaged with a synchronized standard 8 mm film of The Beatles first arriving in the United States in 1964.»\n",
      "[5] «(I Got No Kick Against) Modern Jazz | (I Got No Kick Against) Modern Jazz is a 1995 tribute album by various jazz artists and bands from the GRP Records label. It consists of jazz cover versions of songs originally by The Beatles. The album's title comes from the lyrics of the Beatles's cover of the Chuck Berry song, \"Rock and Roll Music\", which was originally released on the studio album \"Beatles for Sale\".»\n",
      "[6] «Other retrieved pages have titles: `Up Against It (album)`, `Across the Universe (film)`, `Beatallica`, `Breakin' It Up on The Beatles Tour!`, `Let It Be (song)`, `Give Peace a Chance`, `Something (Beatles song)`, `Let It Be`, `Up Against It (1912 film)`, `Alun Owen`, `We Can Work It Out`, `The U.S. vs. John Lennon`, `McCartney (album)`, `One After 909`, `Let It Be (1970 film)`, `Yes It Is`, `It's All Too Much`, `The Long and Winding Road`, `Beatles (song)`, `All Together Now`, `Because (Beatles song)`, `Get Back`, `Beatles (novel)`, `Press to Play`, `Back in the U.S.S.R.`.»\n",
      "\n",
      "[[ ## thought_1 ## ]]\n",
      "I have confirmed that \"Up Against It\" is an unproduced script written in 1967 for The Beatles by Joe Orton. Next, I need to verify if Joe Orton is a playwright, and also check if Bernard-Marie Koltès is a playwright. I will look up Joe Orton first to confirm his profession.\n",
      "\n",
      "[[ ## tool_name_1 ## ]]\n",
      "lookup_wikipedia\n",
      "\n",
      "[[ ## tool_args_1 ## ]]\n",
      "{\"title\": \"Joe Orton\"}\n",
      "\n",
      "[[ ## observation_1 ## ]]\n",
      "John Kingsley \"Joe\" Orton (1 January 1933 – 9 August 1967) was an English playwright and author. His public career was short but prolific, lasting from 1964 until his death three years later. During this brief period he shocked, outraged, and amused audiences with his scandalous black comedies. The adjective \"Ortonesque\" is sometimes used to refer to work characterised by a similarly dark yet farcical cynicism.\n",
      "\n",
      "[[ ## thought_2 ## ]]\n",
      "I have confirmed Joe Orton is a playwright. Now, I need to confirm whether Bernard-Marie Koltès is a playwright as well to fully verify the claim. I will look up Bernard-Marie Koltès to check his profession.\n",
      "\n",
      "[[ ## tool_name_2 ## ]]\n",
      "lookup_wikipedia\n",
      "\n",
      "[[ ## tool_args_2 ## ]]\n",
      "{\"title\": \"Bernard-Marie Koltès\"}\n",
      "\n",
      "[[ ## observation_2 ## ]]\n",
      "Bernard-Marie Koltès (] ; 9 April 1948 – 15 April 1989) was a French playwright and theatre director best known for his plays \"La Nuit juste avant les Forêts\" (\"The Night Just Before the Forests\", 1976), \"Sallinger\" (1977) and \"Dans la Solitude des Champs de Coton\" (\"In the Solitude of Cotton Fields\", 1986).\n",
      "\n",
      "[[ ## thought_3 ## ]]\n",
      "I have confirmed that Joe Orton, the author of the unproduced 1960s script \"Up Against It\" for The Beatles, is a playwright, and that Bernard-Marie Koltès is also a playwright. Both parts of the claim are verified. Therefore, I have gathered sufficient information to conclude that the claim is true.\n",
      "\n",
      "[[ ## tool_name_3 ## ]]\n",
      "finish\n",
      "\n",
      "[[ ## tool_args_3 ## ]]\n",
      "{}\n",
      "\n",
      "[[ ## observation_3 ## ]]\n",
      "Completed.\n",
      "\n",
      "Respond with the corresponding output fields, starting with the field `[[ ## reasoning ## ]]`, then `[[ ## titles ## ]]` (must be formatted as a valid Python list[str]), and then ending with the marker for `[[ ## completed ## ]]`.\n",
      "\n",
      "\n",
      "\u001b[31mResponse:\u001b[0m\n",
      "\n",
      "\u001b[32m[[ ## reasoning ## ]]\n",
      "The claim states that the author of the 1960s unproduced script \"Up Against It,\" written for The Beatles, and Bernard-Marie Koltès are both playwrights. Research confirms that \"Up Against It\" was written in 1967 for The Beatles by Joe Orton, who was an English playwright. Additionally, Bernard-Marie Koltès was a French playwright and theatre director. Thus, both Joe Orton and Bernard-Marie Koltès are indeed playwrights, verifying the claim as true.\n",
      "\n",
      "[[ ## titles ## ]]\n",
      "[\"Up Against It\", \"Joe Orton\", \"Bernard-Marie Koltès\"]\n",
      "\n",
      "[[ ## completed ## ]]\u001b[0m\n",
      "\n",
      "\n",
      "\n",
      "\n",
      "\n"
     ]
    }
   ],
   "source": [
    "dspy.inspect_history(n=2)"
   ]
  },
  {
   "cell_type": "code",
   "execution_count": null,
   "id": "8f8cd40b",
   "metadata": {},
   "outputs": [],
   "source": [
    "optimized_react.save(\"optimized_react.json\")\n",
    "\n",
    "loaded_react = dspy.ReAct(\"claim -> titles: list[str]\", tools=[search_wikipedia, lookup_wikipedia], max_iters=20)\n",
    "loaded_react.load(\"optimized_react.json\")\n",
    "\n",
    "loaded_react(claim=\"The author of the 1960s unproduced script written for The Beatles, Up Against It, and Bernard-Marie Koltès are both playwrights.\").titles"
   ]
  }
 ],
 "metadata": {
  "kernelspec": {
   "display_name": ".venv",
   "language": "python",
   "name": "python3"
  },
  "language_info": {
   "codemirror_mode": {
    "name": "ipython",
    "version": 3
   },
   "file_extension": ".py",
   "mimetype": "text/x-python",
   "name": "python",
   "nbconvert_exporter": "python",
   "pygments_lexer": "ipython3",
   "version": "3.12.3"
  }
 },
 "nbformat": 4,
 "nbformat_minor": 5
}
