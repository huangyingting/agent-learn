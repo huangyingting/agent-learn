{
 "cells": [
  {
   "cell_type": "code",
   "execution_count": null,
   "id": "30627a80",
   "metadata": {},
   "outputs": [],
   "source": [
    "import dspy\n",
    "from dspy.datasets import HotPotQA\n",
    "from dotenv import load_dotenv\n",
    "from phoenix.otel import register\n",
    "\n",
    "load_dotenv()\n",
    "\n",
    "\n",
    "tracer_provider = register(\n",
    "  project_name=\"dspy_optimizer\",\n",
    "  auto_instrument=True\n",
    ")\n",
    "\n",
    "dspy.configure(lm=dspy.LM('azure/gpt-4.1-mini'))\n",
    "\n",
    "def search_wikipedia(query: str) -> list[str]:\n",
    "    results = dspy.ColBERTv2(url='http://20.102.90.50:2017/wiki17_abstracts')(query, k=3)\n",
    "    return [x['text'] for x in results]\n",
    "\n",
    "trainset = [x.with_inputs('question') for x in HotPotQA(train_seed=2024, train_size=500).train]\n",
    "react = dspy.ReAct(\"question -> answer\", tools=[search_wikipedia])\n",
    "\n",
    "tp = dspy.MIPROv2(metric=dspy.evaluate.answer_exact_match, auto=\"light\", num_threads=24)\n",
    "optimized_react = tp.compile(react, trainset=trainset)\n",
    "optimized_react.save('optimizer.json')\n"
   ]
  }
 ],
 "metadata": {
  "kernelspec": {
   "display_name": ".venv",
   "language": "python",
   "name": "python3"
  },
  "language_info": {
   "name": "python",
   "version": "3.12.3"
  }
 },
 "nbformat": 4,
 "nbformat_minor": 5
}
